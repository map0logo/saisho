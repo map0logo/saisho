{
 "metadata": {},
 "nbformat": 3,
 "nbformat_minor": 0,
 "worksheets": [
  {
   "cells": [
    {
     "cell_type": "markdown",
     "metadata": {},
     "source": [
      "# Ch.6: Dictionaries and Strings\n",
      "**Sep 30, 2014**\n",
      "\n",
      "### Goals\n",
      "\n",
      " * Learn more about file reading\n",
      "\n",
      " * Store file data in a new object type: *dictionary*\n",
      "\n",
      " * Interpret content in files via string manipulation\n",
      "\n",
      "\n",
      "\n",
      "The main focus in the course is on working with files, dictionaries and strings.\n",
      "The book has additional material on how to utilize data from the Internet.\n",
      "\n",
      "\n",
      "\n",
      "\n",
      "## Dictionaries"
     ]
    },
    {
     "cell_type": "code",
     "collapsed": false,
     "input": [
      "figfiles = {'fig1.pdf': 81761, 'fig2.png': 8754}\n",
      "\n",
      "figfiles['fig3.png'] = os.path.getsize(filename)\n",
      "\n",
      "for name in figfiles:\n",
      "    print 'File size of %g is %d:' % (name, figfiles[name])\n"
     ],
     "language": "python",
     "metadata": {},
     "outputs": [],
     "prompt_number": 1
    },
    {
     "cell_type": "markdown",
     "metadata": {},
     "source": [
      "<p></p>\n",
      "<img src=\"fig-files/dictionary2.png\" width=300>\n",
      "\n",
      "\n",
      "\n",
      "### A dictionary is a generalization of a list\n",
      "\n",
      "  * Features of lists:\n",
      "\n",
      "   * store a *sequence* of elements in a single object (`[1,3,-1]`)\n",
      "\n",
      "   * each element is a Python object\n",
      "\n",
      "   * the elements are indexed by integers 0, 1, ...\n",
      "\n",
      "\n",
      "  * Dictionaries can index objects in a collection via text\n",
      "    (= \"lists with text index\")\n",
      "\n",
      "  * Dictionary in Python is called hash, HashMap and associative array in other languages\n",
      "\n",
      "\n",
      "\n",
      "### The list index is sometimes unnatural for locating an element of a collection of objects\n",
      "\n",
      "Suppose we need to store the temperatures in Oslo, London and Paris.\n",
      "\n",
      "List solution:"
     ]
    },
    {
     "cell_type": "code",
     "collapsed": false,
     "input": [
      "temps = [13, 15.4, 17.5]\n",
      "# temps[0]: Oslo\n",
      "# temps[1]: London\n",
      "# temps[2]: Paris\n",
      "print 'The temperature in Oslo is', temps[0]\n"
     ],
     "language": "python",
     "metadata": {},
     "outputs": [],
     "prompt_number": 1
    },
    {
     "cell_type": "markdown",
     "metadata": {},
     "source": [
      "Can look up a temperature by mapping city to index to float\n",
      "\n",
      "But it would be more natural to write `temps[Oslo]`!\n",
      "\n",
      "\n",
      "\n",
      "### Dictionaries map strings to objects"
     ]
    },
    {
     "cell_type": "code",
     "collapsed": false,
     "input": [
      "# Initialize dictionary\n",
      "temps = {'Oslo': 13, 'London': 15.4, 'Paris': 17.5}\n",
      "\n",
      "# Applications\n",
      "print 'The temperature in London is', temps['London']\n",
      "print 'The temperature in Oslo is',   temps['Oslo']\n"
     ],
     "language": "python",
     "metadata": {},
     "outputs": [],
     "prompt_number": 1
    },
    {
     "cell_type": "markdown",
     "metadata": {},
     "source": [
      "Important:\n",
      "\n",
      " * The string index, like `Oslo', is called *key*, while `temps['Oslo']`\n",
      "   is the associated *value*\n",
      "\n",
      " * A dictionary is an *unordered* collection of key-value pairs\n",
      "\n",
      "\n",
      "\n",
      "### Initializing dictionaries\n",
      "\n",
      "Two ways of initializing a collection of key-value pairs:"
     ]
    },
    {
     "cell_type": "code",
     "collapsed": false,
     "input": [
      "mydict = {'key1': value1, 'key2': value2, ...}\n",
      "\n",
      "temps = {'Oslo': 13, 'London': 15.4, 'Paris': 17.5}\n",
      "\n",
      "# or\n",
      "mydict = dict(key1=value1, key2=value2, ...)\n",
      "\n",
      "temps = dict(Oslo=13, London=15.4, Paris=17.5)\n"
     ],
     "language": "python",
     "metadata": {},
     "outputs": [],
     "prompt_number": 1
    },
    {
     "cell_type": "markdown",
     "metadata": {},
     "source": [
      "Add a new element to a dict (dict = dictionary):"
     ]
    },
    {
     "cell_type": "code",
     "collapsed": false,
     "input": [
      "temps['Madrid'] = 26.0\n",
      "print temps"
     ],
     "language": "python",
     "metadata": {},
     "outputs": [],
     "prompt_number": 1
    },
    {
     "cell_type": "markdown",
     "metadata": {},
     "source": [
      "### Looping (iterating) over a dict means looping over the keys"
     ]
    },
    {
     "cell_type": "code",
     "collapsed": false,
     "input": [
      "for key in dictionary:\n",
      "    value = dictionary[key]\n",
      "    print value\n"
     ],
     "language": "python",
     "metadata": {},
     "outputs": [],
     "prompt_number": 1
    },
    {
     "cell_type": "markdown",
     "metadata": {},
     "source": [
      "Example:"
     ]
    },
    {
     "cell_type": "code",
     "collapsed": false,
     "input": [
      "for city in temps:\n",
      "  print 'The %s temperature is %g' % (city, temps[city])"
     ],
     "language": "python",
     "metadata": {},
     "outputs": [],
     "prompt_number": 1
    },
    {
     "cell_type": "markdown",
     "metadata": {},
     "source": [
      "Note: the sequence of keys is arbitrary! Use sort if you need a\n",
      "particular sequence:"
     ]
    },
    {
     "cell_type": "code",
     "collapsed": false,
     "input": [
      "for city in sorted(temps):   # alphabetic sort of keys\n",
      "    value = temps[city]\n",
      "    print value\n"
     ],
     "language": "python",
     "metadata": {},
     "outputs": [],
     "prompt_number": 1
    },
    {
     "cell_type": "markdown",
     "metadata": {},
     "source": [
      "### Can test for particular keys, delete elements, etc\n",
      "\n",
      "Does the dict have a particular key?"
     ]
    },
    {
     "cell_type": "code",
     "collapsed": false,
     "input": [
      "if 'Berlin' in temps:\n",
      "    print 'Berlin:', temps['Berlin']\n",
      "else:\n",
      "    print 'No temperature data for Berlin'\n",
      "'Oslo' in temps     # standard boolean expression"
     ],
     "language": "python",
     "metadata": {},
     "outputs": [],
     "prompt_number": 1
    },
    {
     "cell_type": "markdown",
     "metadata": {},
     "source": [
      "Delete an element of a dict:"
     ]
    },
    {
     "cell_type": "code",
     "collapsed": false,
     "input": [
      "del temps['Oslo']   # remove Oslo key w/value\n",
      "temps\n",
      "len(temps)          # no of key-value pairs in dict."
     ],
     "language": "python",
     "metadata": {},
     "outputs": [],
     "prompt_number": 1
    },
    {
     "cell_type": "markdown",
     "metadata": {},
     "source": [
      "### The keys and values can be reached as lists\n",
      "\n",
      "Python version 2:"
     ]
    },
    {
     "cell_type": "code",
     "collapsed": false,
     "input": [
      "temps.keys()\n",
      "temps.values()"
     ],
     "language": "python",
     "metadata": {},
     "outputs": [],
     "prompt_number": 1
    },
    {
     "cell_type": "markdown",
     "metadata": {},
     "source": [
      "Python version 3: `temps.keys()` and `temps.values()` are *iterators*,\n",
      "not lists!"
     ]
    },
    {
     "cell_type": "code",
     "collapsed": false,
     "input": [
      "for city in temps.keys():  # works in Py 2 and 3\n",
      "   print city\n",
      "keys_list = list(temps.keys())  # Py 3: iterator -> list"
     ],
     "language": "python",
     "metadata": {},
     "outputs": [],
     "prompt_number": 1
    },
    {
     "cell_type": "markdown",
     "metadata": {},
     "source": [
      "### Caution: two variables can alter the same dictionary"
     ]
    },
    {
     "cell_type": "code",
     "collapsed": false,
     "input": [
      "t1 = temps\n",
      "t1['Stockholm'] = 10.0    # change t1\n",
      "temps                     # temps is also changed!\n",
      "t2 = temps.copy()         # take a copy\n",
      "t2['Paris'] = 16\n",
      "t1['Paris']               # t1 was not changed"
     ],
     "language": "python",
     "metadata": {},
     "outputs": [],
     "prompt_number": 1
    },
    {
     "cell_type": "markdown",
     "metadata": {},
     "source": [
      "Recall the same for lists:"
     ]
    },
    {
     "cell_type": "code",
     "collapsed": false,
     "input": [
      "L = [1, 2, 3]\n",
      "M = L\n",
      "M[1] = 8\n",
      "L[1]\n",
      "M = L[:]  # take copy of L\n",
      "M[2] = 0\n",
      "L[2]"
     ],
     "language": "python",
     "metadata": {},
     "outputs": [],
     "prompt_number": 1
    },
    {
     "cell_type": "markdown",
     "metadata": {},
     "source": [
      "### Any constant object can be used as key\n",
      "\n",
      " * So far: key is text (string object)\n",
      "\n",
      " * Keys can be any *immutable* (constant) object (!)"
     ]
    },
    {
     "cell_type": "code",
     "collapsed": false,
     "input": [
      "d = {1: 34, 2: 67, 3: 0}   # key is int\n",
      "d = {13: 'Oslo', 15.4: 'London'} # possible\n",
      "d = {(0,0): 4, (1,-1): 5}  # key is tuple\n",
      "d = {[0,0]: 4, [-1,1]: 5}  # list is mutable/changeable"
     ],
     "language": "python",
     "metadata": {},
     "outputs": [],
     "prompt_number": 1
    },
    {
     "cell_type": "markdown",
     "metadata": {},
     "source": [
      "### Example: Polynomials represented by dictionaries\n",
      "\n",
      "The information in the polynomial"
     ]
    },
    {
     "cell_type": "markdown",
     "metadata": {},
     "source": [
      "$$\n",
      "p(x)=-1 + x^2 + 3x^7\n",
      "$$"
     ]
    },
    {
     "cell_type": "markdown",
     "metadata": {},
     "source": [
      "can be represented by a dict with power as key (`int`) and\n",
      "coefficient as value (`float`):"
     ]
    },
    {
     "cell_type": "code",
     "collapsed": false,
     "input": [
      "p = {0: -1, 2: 1, 7: 3.5}\n"
     ],
     "language": "python",
     "metadata": {},
     "outputs": [],
     "prompt_number": 1
    },
    {
     "cell_type": "markdown",
     "metadata": {},
     "source": [
      "Evaluate such a polynomial $\\sum_{i\\in I} c_ix^i$ for some $x$:"
     ]
    },
    {
     "cell_type": "code",
     "collapsed": false,
     "input": [
      "def eval_poly_dict(poly, x):\n",
      "    sum = 0.0\n",
      "    for power in poly:\n",
      "        sum += poly[power]*x**power\n",
      "    return sum\n"
     ],
     "language": "python",
     "metadata": {},
     "outputs": [],
     "prompt_number": 1
    },
    {
     "cell_type": "markdown",
     "metadata": {},
     "source": [
      "Short pro version:"
     ]
    },
    {
     "cell_type": "code",
     "collapsed": false,
     "input": [
      "def eval_poly_dict2(poly, x):\n",
      "    # Python's sum can add elements of an iterator\n",
      "    return sum(poly[power]*x**power for power in poly)\n"
     ],
     "language": "python",
     "metadata": {},
     "outputs": [],
     "prompt_number": 1
    },
    {
     "cell_type": "markdown",
     "metadata": {},
     "source": [
      "### Polynomials can also be represented by lists\n",
      "\n",
      "The list index corresponds to the power, e.g.,\n",
      "the data in $-1 + x^2 + 3x^7$ is represented as"
     ]
    },
    {
     "cell_type": "code",
     "collapsed": false,
     "input": [
      "p = [-1, 0, 1, 0, 0, 0, 0, 3]\n"
     ],
     "language": "python",
     "metadata": {},
     "outputs": [],
     "prompt_number": 1
    },
    {
     "cell_type": "markdown",
     "metadata": {},
     "source": [
      "The general polynomial $\\sum_{i=0}^N c_ix^i$ is stored as\n",
      "`[c0, c1, c2, ..., cN]`.\n",
      "\n",
      "\n",
      "\n",
      "Evaluate such a polynomial $\\sum_{i=0}^N c_ix^i$ for some $x$:"
     ]
    },
    {
     "cell_type": "code",
     "collapsed": false,
     "input": [
      "def eval_poly_list(poly, x):\n",
      "    sum = 0\n",
      "    for power in range(len(poly)):\n",
      "        sum += poly[power]*x**power\n",
      "    return sum\n"
     ],
     "language": "python",
     "metadata": {},
     "outputs": [],
     "prompt_number": 1
    },
    {
     "cell_type": "markdown",
     "metadata": {},
     "source": [
      "### What is best for polynomials: lists or dictionaries?\n",
      "\n",
      "Dictionaries need only store the nonzero terms. Compare\n",
      "dict vs list for the polynomial $1 - x^{200}$:"
     ]
    },
    {
     "cell_type": "code",
     "collapsed": false,
     "input": [
      "p = {0: 1, 200: -1}         # len(p) is 2\n",
      "p = [1, 0, 0, 0, ..., 200]  # len(p) is 201\n"
     ],
     "language": "python",
     "metadata": {},
     "outputs": [],
     "prompt_number": 1
    },
    {
     "cell_type": "markdown",
     "metadata": {},
     "source": [
      "Dictionaries can easily handle negative powers, e.g., ${1\\over2}x^{-3} + 2x^4$"
     ]
    },
    {
     "cell_type": "code",
     "collapsed": false,
     "input": [
      "p = {-3: 0.5, 4: 2}\n",
      "print eval_poly_dict(p, x=4)\n"
     ],
     "language": "python",
     "metadata": {},
     "outputs": [],
     "prompt_number": 1
    },
    {
     "cell_type": "markdown",
     "metadata": {},
     "source": [
      "### Quick recap of file reading"
     ]
    },
    {
     "cell_type": "code",
     "collapsed": false,
     "input": [
      "infile  = open(filename, 'r') # open file for reading\n",
      "\n",
      "line    = infile.readline()   # read the next line\n",
      "filestr = infile.read()       # read rest of file into string\n",
      "lines   = infile.readlines()  # read rest of file into list\n",
      "for line in infile:           # read rest of file line by line\n",
      "\n",
      "infile.close()                # recall to close!\n"
     ],
     "language": "python",
     "metadata": {},
     "outputs": [],
     "prompt_number": 1
    },
    {
     "cell_type": "markdown",
     "metadata": {},
     "source": [
      "### Example: Read file data into a dictionary\n",
      "\n",
      "**Data file:**"
     ]
    },
    {
     "cell_type": "code",
     "collapsed": false,
     "input": [
      "Oslo:          21.8\n",
      "London:        18.1\n",
      "Berlin:        19\n",
      "Paris:         23\n",
      "Rome:          26\n",
      "Helsinki:      17.8\n"
     ],
     "language": "python",
     "metadata": {},
     "outputs": [],
     "prompt_number": 1
    },
    {
     "cell_type": "markdown",
     "metadata": {},
     "source": [
      "Store in dict, with city names as keys and temperatures as values\n",
      "\n",
      "\n",
      "\n",
      "**Program:**"
     ]
    },
    {
     "cell_type": "code",
     "collapsed": false,
     "input": [
      "infile = open('deg2.dat', 'r')\n",
      "temps = {}                  # start with empty dict\n",
      "for line in infile.readlines():\n",
      "    city, temp = line.split()\n",
      "    city = city[:-1]        # remove last char (:)\n",
      "    temps[city]  = float(temp)\n"
     ],
     "language": "python",
     "metadata": {},
     "outputs": [],
     "prompt_number": 1
    },
    {
     "cell_type": "markdown",
     "metadata": {},
     "source": [
      "### A tabular file can be read into a nested dictionary\n",
      "\n",
      "**Data file `table.dat`:**"
     ]
    },
    {
     "cell_type": "code",
     "collapsed": false,
     "input": [
      "       A        B       C      D\n",
      "1     11.7    0.035    2017    99.1\n",
      "2      9.2    0.037    2019   101.2\n",
      "3     12.2     no       no    105.2\n",
      "4     10.1    0.031     no    102.1\n",
      "5      9.1    0.033    2009   103.3\n",
      "6      8.7    0.036    2015   101.9\n"
     ],
     "language": "python",
     "metadata": {},
     "outputs": [],
     "prompt_number": 1
    },
    {
     "cell_type": "markdown",
     "metadata": {},
     "source": [
      "Create a dict `data[p][i]` (dict of dict) to hold measurement no. `i`\n",
      "(`1`, `2`, etc.) of property `p` (`'A'`, `'B'`, etc.)\n",
      "\n",
      "\n",
      "\n",
      "### We must first develop the plan (algorithm) for doing this\n",
      "\n",
      " 1. Examine the first line:\n",
      "\n",
      "  1. split it into words\n",
      "\n",
      "  2. initialize a dictionary with the property names as keys\n",
      "     and empty dictionaries `{}` as values\n",
      "\n",
      "\n",
      " 3. For each of the remaining lines:\n",
      "\n",
      "  1. split line into words\n",
      "\n",
      "  2. for each word after the first: if word is not `no`,\n",
      "     convert to float and store\n",
      "\n",
      "\n",
      "Good exercise: do this now!\n",
      "(See the book for a complete implementation.)\n",
      "\n",
      "\n",
      "\n",
      "### Example: Download data from the web and visualize\n",
      "\n",
      "**Problem:**\n",
      "\n",
      "  * Compare the stock prices of Microsoft, Apple, and Google over decades\n",
      "\n",
      "  * <http://finance.yahoo.com/> offers such data in files with tabular form"
     ]
    },
    {
     "cell_type": "markdown",
     "metadata": {},
     "source": [
      "        Date,Open,High,Low,Close,Volume,Adj Close\n",
      "        2014-02-03,502.61,551.19,499.30,545.99,12244400,545.99\n",
      "        2014-01-02,555.68,560.20,493.55,500.60,15698500,497.62\n",
      "        2013-12-02,558.00,575.14,538.80,561.02,12382100,557.68\n",
      "        2013-11-01,524.02,558.33,512.38,556.07,9898700,552.76\n",
      "        2013-10-01,478.45,539.25,478.28,522.70,12598400,516.57\n",
      "        ...\n",
      "        1984-10-01,25.00,27.37,22.50,24.87,5654600,2.73\n",
      "        1984-09-07,26.50,29.00,24.62,25.12,5328800,2.76\n"
     ]
    },
    {
     "cell_type": "markdown",
     "metadata": {},
     "source": [
      "### We need to analyze the file format to find the algorithm for interpreting the content"
     ]
    },
    {
     "cell_type": "markdown",
     "metadata": {},
     "source": [
      "        Date,Open,High,Low,Close,Volume,Adj Close\n",
      "        2014-02-03,502.61,551.19,499.30,545.99,12244400,545.99\n",
      "        2014-01-02,555.68,560.20,493.55,500.60,15698500,497.62\n",
      "        2013-12-02,558.00,575.14,538.80,561.02,12382100,557.68\n",
      "        2013-11-01,524.02,558.33,512.38,556.07,9898700,552.76\n",
      "        2013-10-01,478.45,539.25,478.28,522.70,12598400,516.57\n",
      "        ...\n",
      "        1984-10-01,25.00,27.37,22.50,24.87,5654600,2.73\n",
      "        1984-09-07,26.50,29.00,24.62,25.12,5328800,2.76\n"
     ]
    },
    {
     "cell_type": "markdown",
     "metadata": {},
     "source": [
      "File format:\n",
      "\n",
      "  * Columns are separated by comma\n",
      "\n",
      "  * First column is the date, the final is the price of interest\n",
      "\n",
      "  * The prizes start at different dates\n",
      "\n",
      "\n",
      "\n",
      "### We need algorithms before we can write code\n",
      "\n",
      "**Algorithm for reading data:**\n",
      "\n",
      " 1. skip first line\n",
      "\n",
      " 2. read line by line\n",
      "\n",
      " 3. split each line wrt. comma\n",
      "\n",
      " 4. store first word (date) in a list of dates\n",
      "\n",
      " 5. store final word (prize) in a list of prices\n",
      "\n",
      " 6. collect date and price list in a dictionary (key is company)\n",
      "\n",
      " 7. make a function for reading one company's file\n",
      "\n",
      "\n",
      "\n",
      "**Plotting:**\n",
      "\n",
      " 1. Convert year-month-day time specifications in strings\n",
      "    into year coordinates along the x axis\n",
      "\n",
      " 2. Note that the companies' price history starts at different years\n",
      "\n",
      "\n",
      "\n",
      "### No code is presented here...\n",
      "\n",
      "See the book for all details. If you understand this quite comprehensive\n",
      "example, you know and understand a lot!\n",
      "\n",
      "\n",
      "\n",
      "### Plot of normalized stock prices in logarithmic scale\n",
      "\n",
      "Much computer history in this plot:\n",
      "\n",
      "\n",
      "<p></p>\n",
      "<img src=\"fig-files/stockprices1.png\" width=700>\n",
      "\n",
      "\n",
      "\n",
      "\n",
      "\n",
      "## String manipulation"
     ]
    },
    {
     "cell_type": "code",
     "collapsed": false,
     "input": [
      "s = 'This is a string'\n",
      "s.split()\n",
      "'This' in s\n",
      "s.find('is')\n",
      "', '.join(s.split())"
     ],
     "language": "python",
     "metadata": {},
     "outputs": [],
     "prompt_number": 1
    },
    {
     "cell_type": "markdown",
     "metadata": {},
     "source": [
      "<p></p>\n",
      "<img src=\"fig-files/string_manipulation.jpg\" width=400>\n",
      "\n",
      "\n",
      "\n",
      "### String manipulation is key to interpret the content of files\n",
      "\n",
      "  * Text in Python is represented as strings\n",
      "\n",
      "  * Inspecting and manipulating strings is the way we can understand the contents of files\n",
      "\n",
      "  * Plan: first show basic operations, then address real examples\n",
      "\n",
      "Sample string used for illustrations:"
     ]
    },
    {
     "cell_type": "code",
     "collapsed": false,
     "input": [
      "s = 'Berlin: 18.4 C at 4 pm'"
     ],
     "language": "python",
     "metadata": {},
     "outputs": [],
     "prompt_number": 1
    },
    {
     "cell_type": "markdown",
     "metadata": {},
     "source": [
      "Strings behave much like lists/tuples - they are a sequence of characters:"
     ]
    },
    {
     "cell_type": "code",
     "collapsed": false,
     "input": [
      "s[0]\n",
      "s[1]\n",
      "s[-1]"
     ],
     "language": "python",
     "metadata": {},
     "outputs": [],
     "prompt_number": 1
    },
    {
     "cell_type": "markdown",
     "metadata": {},
     "source": [
      "### Extracting substrings\n",
      "\n",
      "Substrings are just as slices of lists and arrays:"
     ]
    },
    {
     "cell_type": "code",
     "collapsed": false,
     "input": [
      "s\n",
      "s[8:]     # from index 8 to the end of the string\n",
      "s[8:12]   # index 8, 9, 10 and 11 (not 12!)\n",
      "s[8:-1]\n",
      "s[8:-8]"
     ],
     "language": "python",
     "metadata": {},
     "outputs": [],
     "prompt_number": 1
    },
    {
     "cell_type": "markdown",
     "metadata": {},
     "source": [
      "Find start of substring:"
     ]
    },
    {
     "cell_type": "code",
     "collapsed": false,
     "input": [
      "s.find('Berlin')  # where does 'Berlin' start?\n",
      "s.find('pm')\n",
      "s.find('Oslo')    # not found"
     ],
     "language": "python",
     "metadata": {},
     "outputs": [],
     "prompt_number": 1
    },
    {
     "cell_type": "markdown",
     "metadata": {},
     "source": [
      "### Checking if a substring is contained in a string"
     ]
    },
    {
     "cell_type": "code",
     "collapsed": false,
     "input": [
      "'Berlin' in s:\n",
      "'Oslo' in s:\n",
      "if 'C' in s:\n",
      "    print 'C found'\n",
      "else:\n",
      "    print 'no C'"
     ],
     "language": "python",
     "metadata": {},
     "outputs": [],
     "prompt_number": 1
    },
    {
     "cell_type": "markdown",
     "metadata": {},
     "source": [
      "### Substituting a substring by another string\n",
      "\n",
      "`s.replace(s1, s2)`: replace `s1` by `s2`"
     ]
    },
    {
     "cell_type": "code",
     "collapsed": false,
     "input": [
      "s.replace(' ', '__')\n",
      "s.replace('Berlin', 'Bonn')"
     ],
     "language": "python",
     "metadata": {},
     "outputs": [],
     "prompt_number": 1
    },
    {
     "cell_type": "markdown",
     "metadata": {},
     "source": [
      "Example: replace the text before the first colon by `'Bonn'`"
     ]
    },
    {
     "cell_type": "code",
     "collapsed": false,
     "input": [
      "s\n",
      "s.replace(s[:s.find(':')], 'Bonn')"
     ],
     "language": "python",
     "metadata": {},
     "outputs": [],
     "prompt_number": 1
    },
    {
     "cell_type": "markdown",
     "metadata": {},
     "source": [
      "1) `s.find(':')` returns 6, 2) `s[:6]` is `'Berlin'`, 3) `Berlin`\n",
      "is replaced by `'Bonn'`\n",
      "\n",
      "\n",
      "\n",
      "### Splitting a string into a list of substrings\n",
      "\n",
      "`s.split(sep)`: split `s` into a list of substrings separated by `sep`\n",
      "(no separator implies split wrt whitespace):"
     ]
    },
    {
     "cell_type": "code",
     "collapsed": false,
     "input": [
      "s\n",
      "s.split(':')\n",
      "s.split()"
     ],
     "language": "python",
     "metadata": {},
     "outputs": [],
     "prompt_number": 1
    },
    {
     "cell_type": "markdown",
     "metadata": {},
     "source": [
      "Try to understand this one:"
     ]
    },
    {
     "cell_type": "code",
     "collapsed": false,
     "input": [
      "s.split(':')[1].split()[0]\n",
      "deg = float(_)  # _ represents the last result\n",
      "deg"
     ],
     "language": "python",
     "metadata": {},
     "outputs": [],
     "prompt_number": 1
    },
    {
     "cell_type": "markdown",
     "metadata": {},
     "source": [
      "### Splitting a string into lines\n",
      "\n",
      "  * Very often, a string contains lots of text and we want to split the text into separate lines\n",
      "\n",
      "  * Lines may be separated by different control characters on different platforms: `\\n` on Unix/Linux/Mac, `\\r\\n` on Windows"
     ]
    },
    {
     "cell_type": "code",
     "collapsed": false,
     "input": [
      "t = '1st line\\n2nd line\\n3rd line'     # Unix-line\n",
      "print t\n",
      "t.split('\\n')\n",
      "t.splitlines()\n",
      "t = '1st line\\r\\n2nd line\\r\\n3rd line' # Windows\n",
      "t.split('\\n')\n",
      "t.splitlines()                         # cross platform!"
     ],
     "language": "python",
     "metadata": {},
     "outputs": [],
     "prompt_number": 1
    },
    {
     "cell_type": "markdown",
     "metadata": {},
     "source": [
      "### Strings are constant - immutable - objects\n",
      "\n",
      "You cannot change a string in-place (as you can with lists and arrays) - all changes of a strings results in a new string"
     ]
    },
    {
     "cell_type": "code",
     "collapsed": false,
     "input": [
      "s[18] = 5\n",
      "# build a new string by adding pieces of s:\n",
      "s2 = s[:18] + '5' + s[19:]\n",
      "s2"
     ],
     "language": "python",
     "metadata": {},
     "outputs": [],
     "prompt_number": 1
    },
    {
     "cell_type": "markdown",
     "metadata": {},
     "source": [
      "### Stripping off leading/trailing whitespace"
     ]
    },
    {
     "cell_type": "code",
     "collapsed": false,
     "input": [
      "s = '   text with leading/trailing space   \\n'\n",
      "s.strip()\n",
      "s.lstrip()   # left strip\n",
      "s.rstrip()   # right strip"
     ],
     "language": "python",
     "metadata": {},
     "outputs": [],
     "prompt_number": 1
    },
    {
     "cell_type": "markdown",
     "metadata": {},
     "source": [
      "### Some convenient string functions"
     ]
    },
    {
     "cell_type": "code",
     "collapsed": false,
     "input": [
      "'214'.isdigit()\n",
      "'  214 '.isdigit()\n",
      "'2.14'.isdigit()\n",
      "s.lower()\n",
      "s.upper()\n",
      "s.startswith('Berlin')\n",
      "s.endswith('am')\n",
      "'    '.isspace()   # blanks\n",
      "'  \\n'.isspace()   # newline\n",
      "'  \\t '.isspace()  # TAB\n",
      "''.isspace()       # empty string"
     ],
     "language": "python",
     "metadata": {},
     "outputs": [],
     "prompt_number": 1
    },
    {
     "cell_type": "markdown",
     "metadata": {},
     "source": [
      "### Joining a list of substrings to a new string\n",
      "\n",
      "We can put strings together with a delimiter in between:"
     ]
    },
    {
     "cell_type": "code",
     "collapsed": false,
     "input": [
      "strings = ['Newton', 'Secant', 'Bisection']\n",
      "', '.join(strings)"
     ],
     "language": "python",
     "metadata": {},
     "outputs": [],
     "prompt_number": 1
    },
    {
     "cell_type": "markdown",
     "metadata": {},
     "source": [
      "These are inverse operations:"
     ]
    },
    {
     "cell_type": "code",
     "collapsed": false,
     "input": [
      "t = delimiter.join(stringlist)\n",
      "stringlist = t.split(delimiter)\n"
     ],
     "language": "python",
     "metadata": {},
     "outputs": [],
     "prompt_number": 1
    },
    {
     "cell_type": "markdown",
     "metadata": {},
     "source": [
      "Split off the first two words on a line:"
     ]
    },
    {
     "cell_type": "code",
     "collapsed": false,
     "input": [
      "line = 'This is a line of words separated by space'\n",
      "words = line.split()\n",
      "line2 = ' '.join(words[2:])\n",
      "line2"
     ],
     "language": "python",
     "metadata": {},
     "outputs": [],
     "prompt_number": 1
    },
    {
     "cell_type": "markdown",
     "metadata": {},
     "source": [
      "### Example: Read pairs of numbers (x,y) from a file\n",
      "\n",
      "**Sample file:**"
     ]
    },
    {
     "cell_type": "code",
     "collapsed": false,
     "input": [
      "(1.3,0)    (-1,2)    (3,-1.5)\n",
      "(0,1)      (1,0)     (1,1)\n",
      "(0,-0.01)  (10.5,-1) (2.5,-2.5)\n"
     ],
     "language": "python",
     "metadata": {},
     "outputs": [],
     "prompt_number": 1
    },
    {
     "cell_type": "markdown",
     "metadata": {},
     "source": [
      "**Algorithm:**\n",
      "\n",
      "\n",
      "1. Read line by line\n",
      "\n",
      "2. For each line, split line into words\n",
      "\n",
      "3. For each word, strip off the parethesis\n",
      "   and split the rest wrt comma\n",
      "\n",
      "\n",
      "\n",
      "### The code for reading pairs"
     ]
    },
    {
     "cell_type": "code",
     "collapsed": false,
     "input": [
      "lines = open('read_pairs.dat', 'r').readlines()\n",
      "\n",
      "pairs = []   # list of (n1, n2) pairs of numbers\n",
      "for line in lines:\n",
      "    words = line.split()\n",
      "    for word in words:\n",
      "        word = word[1:-1]  # strip off parenthesis\n",
      "        n1, n2 = word.split(',')\n",
      "        n1 = float(n1);  n2 = float(n2)\n",
      "        pair = (n1, n2)\n",
      "        pairs.append(pair)\n"
     ],
     "language": "python",
     "metadata": {},
     "outputs": [],
     "prompt_number": 1
    },
    {
     "cell_type": "markdown",
     "metadata": {},
     "source": [
      "### Output of a pretty print of the pairs list"
     ]
    },
    {
     "cell_type": "code",
     "collapsed": false,
     "input": [
      "[(1.3, 0.0),\n",
      " (-1.0, 2.0),\n",
      " (3.0, -1.5),\n",
      " (0.0, 1.0),\n",
      " (1.0, 0.0),\n",
      " (1.0, 1.0),\n",
      " (0.0, -0.01),\n",
      " (10.5, -1.0),\n",
      " (2.5, -2.5)]\n"
     ],
     "language": "python",
     "metadata": {},
     "outputs": [],
     "prompt_number": 1
    },
    {
     "cell_type": "markdown",
     "metadata": {},
     "source": [
      "### Alternative solution: Python syntax in file format\n",
      "\n",
      "Suppose the file format"
     ]
    },
    {
     "cell_type": "code",
     "collapsed": false,
     "input": [
      "(1.3, 0)    (-1, 2)    (3, -1.5)\n",
      "...\n"
     ],
     "language": "python",
     "metadata": {},
     "outputs": [],
     "prompt_number": 1
    },
    {
     "cell_type": "markdown",
     "metadata": {},
     "source": [
      "was slightly different:"
     ]
    },
    {
     "cell_type": "code",
     "collapsed": false,
     "input": [
      "[(1.3, 0),    (-1, 2),    (3, -1.5),\n",
      "...\n",
      "]\n"
     ],
     "language": "python",
     "metadata": {},
     "outputs": [],
     "prompt_number": 1
    },
    {
     "cell_type": "markdown",
     "metadata": {},
     "source": [
      "Running `eval` on the perturbed format produces the desired list!"
     ]
    },
    {
     "cell_type": "code",
     "collapsed": false,
     "input": [
      "text = open('read_pairs2.dat', 'r').read()\n",
      "text = '[' + text.replace(')', '),') + ']'\n",
      "pairs = eval(text)\n"
     ],
     "language": "python",
     "metadata": {},
     "outputs": [],
     "prompt_number": 1
    },
    {
     "cell_type": "markdown",
     "metadata": {},
     "source": [
      "### Web pages are nothing but text files\n",
      "\n",
      "The text is a mix of HTML commands and the text displayed in\n",
      "the browser:"
     ]
    },
    {
     "cell_type": "markdown",
     "metadata": {},
     "source": [
      "        <html>\n",
      "        <body bgcolor=\"orange\">\n",
      "        <h1>A Very Simple Web Page</h1> <!-- headline -->\n",
      "        Ordinary text is written as ordinary text, but when we\n",
      "        need headlines, lists,\n",
      "        <ul>\n",
      "        <li><em>emphasized words</em>, or\n",
      "        <li> <b>boldfaced words</b>,\n",
      "        </ul>\n",
      "        we need to embed the text inside HTML tags. We can also\n",
      "        insert GIF or PNG images, taken from other Internet sites,\n",
      "        if desired.\n",
      "        <hr> <!-- horizontal line -->\n",
      "        <img src=\"http://www.simula.no/simula_logo.gif\">\n",
      "        </body>\n",
      "        </html>\n"
     ]
    },
    {
     "cell_type": "markdown",
     "metadata": {},
     "source": [
      "### The web page generated by HTML code from the previous slide\n",
      "\n",
      "\n",
      "<p></p>\n",
      "<img src=\"fig-files/simple_webpage.png\" width=600>\n",
      "\n",
      "\n",
      "\n",
      "### Programs can extract data from web pages\n",
      "\n",
      " * A program can download a web page, as an HTML file, and extract data by interpreting the text in the file (using string operations).\n",
      "\n",
      " * Example: [climate data from the UK](http://www.metoffice.gov.uk/climate/uk/stationdata/)\n",
      "\n",
      "Download `oxforddata.txt` to a local file `Oxford.txt`:"
     ]
    },
    {
     "cell_type": "code",
     "collapsed": false,
     "input": [
      "import urllib\n",
      "baseurl = 'http://www.metoffice.gov.uk/climate/uk/stationdata'\n",
      "filename = 'oxforddata.txt'\n",
      "url = baseurl + '/' + filename\n",
      "urllib.urlretrieve(url, filename='Oxford.txt')\n"
     ],
     "language": "python",
     "metadata": {},
     "outputs": [],
     "prompt_number": 1
    },
    {
     "cell_type": "markdown",
     "metadata": {},
     "source": [
      "### The structure of the Oxfort.txt weather data file"
     ]
    },
    {
     "cell_type": "code",
     "collapsed": false,
     "input": [
      "Oxford\n",
      "Location: 4509E 2072N, 63 metres amsl\n",
      "Estimated data is marked with a * after the value.\n",
      "Missing data (more than 2 days missing in month) is marked by  ---.\n",
      "Sunshine data taken from an automatic ...\n",
      "   yyyy  mm   tmax    tmin      af    rain     sun\n",
      "              degC    degC    days      mm   hours\n",
      "   1853   1    8.4     2.7       4    62.8     ---\n",
      "   1853   2    3.2    -1.8      19    29.3     ---\n",
      "   1853   3    7.7    -0.6      20    25.9     ---\n",
      "   1853   4   12.6     4.5       0    60.1     ---\n",
      "   1853   5   16.8     6.1       0    59.5     ---\n",
      "\n",
      "...\n",
      "\n",
      "   2010   5   17.6     7.3       0    28.6   207.4\n",
      "   2010   6   23.0    11.1       0    34.5   230.5\n",
      "   2010   7   23.3*   14.1*      0*   24.4*  184.4*  Provisional\n",
      "   2010  10   14.6     7.4       2    43.5   128.8   Provisional\n"
     ],
     "language": "python",
     "metadata": {},
     "outputs": [],
     "prompt_number": 1
    },
    {
     "cell_type": "markdown",
     "metadata": {},
     "source": [
      "### Reading the climate data\n",
      "\n",
      "**Algorithm:**\n",
      "\n",
      " 1. Read the place and location in the file header\n",
      "\n",
      " 2. Skip the next 5 (for us uninteresting) lines\n",
      "\n",
      " 3. Read the column data and store in dictionary\n",
      "\n",
      " 4. Test for numbers with special annotation, \"provisional\" column, etc.\n",
      "\n",
      "\n",
      "\n",
      "**Program, part 1:**"
     ]
    },
    {
     "cell_type": "code",
     "collapsed": false,
     "input": [
      "local_file = 'Oxford.txt'\n",
      "infile = open(local_file, 'r')\n",
      "data = {}\n",
      "data['place'] = infile.readline().strip()\n",
      "data['location'] = infile.readline().strip()\n",
      "# Skip the next 5 lines\n",
      "for i in range(5):\n",
      "    infile.readline()\n"
     ],
     "language": "python",
     "metadata": {},
     "outputs": [],
     "prompt_number": 1
    },
    {
     "cell_type": "markdown",
     "metadata": {},
     "source": [
      "### Reading the climate data - program, part 2\n",
      "\n",
      "**Program, part 2:**"
     ]
    },
    {
     "cell_type": "code",
     "collapsed": false,
     "input": [
      "data['data'] ={}\n",
      "for line in infile:\n",
      "    columns = line.split()\n",
      "\n",
      "    year = int(columns[0])\n",
      "    month = int(columns[1])\n",
      "\n",
      "    if columns[-1] == 'Provisional':\n",
      "        del columns[-1]\n",
      "    for i in range(2, len(columns)):\n",
      "        if columns[i] == '---':\n",
      "            columns[i] = None\n",
      "        elif columns[i][-1] == '*' or columns[i][-1] == '#':\n",
      "            # Strip off trailing character\n",
      "            columns[i] = float(columns[i][:-1])\n",
      "        else:\n",
      "            columns[i] = float(columns[i])\n"
     ],
     "language": "python",
     "metadata": {},
     "outputs": [],
     "prompt_number": 1
    },
    {
     "cell_type": "markdown",
     "metadata": {},
     "source": [
      "### Reading the climate data - program, part 3\n",
      "\n",
      "**Program, part 3.**"
     ]
    },
    {
     "cell_type": "code",
     "collapsed": false,
     "input": [
      "for line in infile:\n",
      "    ...\n",
      "    tmax, tmin, air_frost, rain, sun = columns[2:]\n",
      "\n",
      "    if not year in data['data']:\n",
      "        data['data'][year] = {}\n",
      "    data['data'][year][month] = {'tmax': tmax,\n",
      "                                 'tmin': tmin,\n",
      "                                 'air frost': air_frost,\n",
      "                                 'sun': sun}\n"
     ],
     "language": "python",
     "metadata": {},
     "outputs": [],
     "prompt_number": 1
    },
    {
     "cell_type": "markdown",
     "metadata": {},
     "source": [
      "### Summary of dictionary functionality\n",
      "\n",
      "<table border=\"1\">\n",
      "<thead>\n",
      "<tr><th align=\"center\">            Construction            </th> <th align=\"center\">                 Meaning                  </th> </tr>\n",
      "</thead>\n",
      "<tbody>\n",
      "<tr><td align=\"left\">   <code>a = {}</code>                                </td> <td align=\"left\">   initialize an empty dictionary                </td> </tr>\n",
      "<tr><td align=\"left\">   <code>a = {'point': [0,0.1], 'value': 7}</code>    </td> <td align=\"left\">   initialize a dictionary                       </td> </tr>\n",
      "<tr><td align=\"left\">   <code>a = dict(point=[2,7], value=3)</code>        </td> <td align=\"left\">   initialize a dictionary w/string keys         </td> </tr>\n",
      "<tr><td align=\"left\">   <code>a.update(b)</code>                           </td> <td align=\"left\">   add/update key-value pairs from <code>b</code> in <code>a</code>    </td> </tr>\n",
      "<tr><td align=\"left\">   <code>a.update(key1=value1, key2=value2)</code>    </td> <td align=\"left\">   add/update key-value pairs in <code>a</code>             </td> </tr>\n",
      "<tr><td align=\"left\">   <code>a['hide'] = True</code>                      </td> <td align=\"left\">   add new key-value pair to <code>a</code>                 </td> </tr>\n",
      "<tr><td align=\"left\">   <code>a['point']</code>                            </td> <td align=\"left\">   get value corresponding to key <code>point</code>        </td> </tr>\n",
      "<tr><td align=\"left\">   <code>for key in a:</code>                         </td> <td align=\"left\">   loop over keys in unknown order               </td> </tr>\n",
      "<tr><td align=\"left\">   <code>for key in sorted(a):</code>                 </td> <td align=\"left\">   loop over keys in alphabetic order            </td> </tr>\n",
      "<tr><td align=\"left\">   <code>'value' in a</code>                          </td> <td align=\"left\">   <code>True</code> if string <code>value</code> is a key in <code>a</code>      </td> </tr>\n",
      "<tr><td align=\"left\">   <code>del a['point']</code>                        </td> <td align=\"left\">   delete a key-value pair from <code>a</code>              </td> </tr>\n",
      "<tr><td align=\"left\">   <code>list(a.keys())</code>                        </td> <td align=\"left\">   list of keys                                  </td> </tr>\n",
      "<tr><td align=\"left\">   <code>list(a.values())</code>                      </td> <td align=\"left\">   list of values                                </td> </tr>\n",
      "<tr><td align=\"left\">   <code>len(a)</code>                                </td> <td align=\"left\">   number of key-value pairs in <code>a</code>              </td> </tr>\n",
      "<tr><td align=\"left\">   <code>isinstance(a, dict)</code>                   </td> <td align=\"left\">   is <code>True</code> if <code>a</code> is a dictionary              </td> </tr>\n",
      "</tbody>\n",
      "</table>\n",
      "\n",
      "### Summary of some string operations"
     ]
    },
    {
     "cell_type": "code",
     "collapsed": false,
     "input": [
      "s = 'Berlin: 18.4 C at 4 pm'\n",
      "s[8:17]          # extract substring\n",
      "s.find(':')      # index where first ':' is found\n",
      "s.split(':')     # split into substrings\n",
      "s.split()        # split wrt whitespace\n",
      "'Berlin' in s    # test if substring is in s\n",
      "s.replace('18.4', '20')\n",
      "s.lower()        # lower case letters only\n",
      "s.upper()        # upper case letters only\n",
      "s.split()[4].isdigit()\n",
      "s.strip()        # remove leading/trailing blanks\n",
      "', '.join(list_of_words)\n"
     ],
     "language": "python",
     "metadata": {},
     "outputs": [],
     "prompt_number": 1
    }
   ],
   "metadata": {}
  }
 ]
}
