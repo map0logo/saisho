{
 "metadata": {},
 "nbformat": 3,
 "nbformat_minor": 0,
 "worksheets": [
  {
   "cells": [
    {
     "cell_type": "markdown",
     "metadata": {},
     "source": [
      "# Ch.2: Loops and lists\n",
      "**Sep 14, 2014**\n",
      "\n",
      "### Make a table of Celsius and Fahrenheit degrees"
     ]
    },
    {
     "cell_type": "markdown",
     "metadata": {},
     "source": [
      "        -20  -4.0\n",
      "        -15   5.0\n",
      "        -10  14.0\n",
      "         -5  23.0\n",
      "          0  32.0\n",
      "          5  41.0\n",
      "         10  50.0\n",
      "         15  59.0\n",
      "         20  68.0\n",
      "         25  77.0\n",
      "         30  86.0\n",
      "         35  95.0\n",
      "         40 104.0\n"
     ]
    },
    {
     "cell_type": "markdown",
     "metadata": {},
     "source": [
      "How can a program write out such a table?\n",
      "\n",
      "\n",
      "\n",
      "### Making a table: the simple naive solution\n",
      "\n",
      "We know how to make one line in the table:"
     ]
    },
    {
     "cell_type": "code",
     "collapsed": false,
     "input": [
      "C = -20\n",
      "F = 9.0/5*C + 32\n",
      "print C, F\n"
     ],
     "language": "python",
     "metadata": {},
     "outputs": [],
     "prompt_number": 1
    },
    {
     "cell_type": "markdown",
     "metadata": {},
     "source": [
      "We can just repeat these statements:"
     ]
    },
    {
     "cell_type": "code",
     "collapsed": false,
     "input": [
      "C = -20;  F = 9.0/5*C + 32;  print C, F\n",
      "C = -15;  F = 9.0/5*C + 32;  print C, F\n",
      "...\n",
      "C =  35;  F = 9.0/5*C + 32;  print C, F\n",
      "C =  40;  F = 9.0/5*C + 32;  print C, F\n"
     ],
     "language": "python",
     "metadata": {},
     "outputs": [],
     "prompt_number": 1
    },
    {
     "cell_type": "markdown",
     "metadata": {},
     "source": [
      "* Very boring to write, easy to introduce a misprint\n",
      "\n",
      "  * When programming becomes boring, there is usually a construct that automates the writing!\n",
      "\n",
      "  * The computer is extremely good at performing repetitive tasks\n",
      "\n",
      "  * For this purpose we use *loops*\n",
      "\n",
      "\n",
      "\n",
      "### The while loop makes it possible to repeat almost similar tasks\n",
      "\n",
      "A while loop executes repeatedly a set of statements as long as\n",
      "a boolean condition is true"
     ]
    },
    {
     "cell_type": "code",
     "collapsed": false,
     "input": [
      "while condition:\n",
      "    <statement 1>\n",
      "    <statement 2>\n",
      "    ...\n",
      "<first statement after loop>\n"
     ],
     "language": "python",
     "metadata": {},
     "outputs": [],
     "prompt_number": 1
    },
    {
     "cell_type": "markdown",
     "metadata": {},
     "source": [
      "* All statements in the loop must be indented!\n",
      "\n",
      "  * The loop ends when an unindented statement is encountered\n",
      "\n",
      "\n",
      "\n",
      "### The while loop for making a table"
     ]
    },
    {
     "cell_type": "code",
     "collapsed": false,
     "input": [
      "print '------------------' # table heading\n",
      "C = -20                    # start value for C\n",
      "dC = 5                     # increment of C in loop\n",
      "while C <= 40:             # loop heading with condition\n",
      "    F = (9.0/5)*C + 32     # 1st statement inside loop\n",
      "    print C, F             # 2nd statement inside loop\n",
      "    C = C + dC             # last statement inside loop\n",
      "print '------------------' # end of table line\n"
     ],
     "language": "python",
     "metadata": {},
     "outputs": [],
     "prompt_number": 1
    },
    {
     "cell_type": "markdown",
     "metadata": {},
     "source": [
      "### The program flow in a while loop"
     ]
    },
    {
     "cell_type": "code",
     "collapsed": false,
     "input": [
      "C = -20\n",
      "dC = 5\n",
      "while C <= 40:\n",
      "    F = (9.0/5)*C + 32\n",
      "    print C, F\n",
      "    C = C + dC\n"
     ],
     "language": "python",
     "metadata": {},
     "outputs": [],
     "prompt_number": 1
    },
    {
     "cell_type": "markdown",
     "metadata": {},
     "source": [
      "Let us simulate the while loop by hand:\n",
      "\n",
      "  * First `C` is -20, $-20 \\leq 40$ is true, therefore we execute the loop statements\n",
      "\n",
      "  * Compute `F`, print, and update `C` to -15\n",
      "\n",
      "  * We jump up to the `while` line, evaluate $C\\leq 40$, which is true, hence a new round in the loop\n",
      "\n",
      "  * We continue this way until `C` is updated to 45\n",
      "\n",
      "  * Now the loop condition $45\\leq 40$ is false, and the program jumps to the first line after the loop - the loop is over\n",
      "\n",
      "### Boolean expressions are true or false\n",
      "\n",
      "An expression with value true or false is called a boolean expression.\n",
      "Examples: $C=40$, $C\\neq 40$, $C\\geq 40$, $C>40$, $C<40$."
     ]
    },
    {
     "cell_type": "code",
     "collapsed": false,
     "input": [
      "C == 40  # note the double ==, C=40 is an assignment!\n",
      "C != 40\n",
      "C >= 40\n",
      "C >  40\n",
      "C <  40\n"
     ],
     "language": "python",
     "metadata": {},
     "outputs": [],
     "prompt_number": 1
    },
    {
     "cell_type": "markdown",
     "metadata": {},
     "source": [
      "We can test boolean expressions in a Python shell:"
     ]
    },
    {
     "cell_type": "code",
     "collapsed": false,
     "input": [
      "C = 41\n",
      "C != 40\n",
      "C < 40\n",
      "C == 41"
     ],
     "language": "python",
     "metadata": {},
     "outputs": [],
     "prompt_number": 1
    },
    {
     "cell_type": "markdown",
     "metadata": {},
     "source": [
      "### Combining boolean expressions\n",
      "\n",
      "Several conditions can be combined with and/or:"
     ]
    },
    {
     "cell_type": "code",
     "collapsed": false,
     "input": [
      "while condition1 and condition2:\n",
      "    ...\n",
      "\n",
      "while condition1 or condition2:\n",
      "    ...\n"
     ],
     "language": "python",
     "metadata": {},
     "outputs": [],
     "prompt_number": 1
    },
    {
     "cell_type": "markdown",
     "metadata": {},
     "source": [
      "Rule 1: `C1 and C2` is `True` if both `C1` and `C2` are `True`\n",
      "\n",
      "Rule 2: `C1 or C2` is `True` if one of `C1` or `C2` is `True`"
     ]
    },
    {
     "cell_type": "code",
     "collapsed": false,
     "input": [
      "x = 0;  y = 1.2\n",
      "x >= 0 and y < 1\n",
      "x >= 0 or y < 1\n",
      "x > 0 or y > 1\n",
      "x > 0 or not y > 1\n",
      "-1 < x <= 0   #  -1 < x and x <= 0\n",
      "not (x > 0 or y > 0)"
     ],
     "language": "python",
     "metadata": {},
     "outputs": [],
     "prompt_number": 1
    },
    {
     "cell_type": "markdown",
     "metadata": {},
     "source": [
      "### Lists are objects for storing a sequence of things (objects)\n",
      "\n",
      "So far, one variable has referred to one number (or string),\n",
      "but sometimes we naturally have a collection of numbers, say degrees $-20, -15, -10, -5, 0, \\ldots, 40$\n",
      "\n",
      "Simple solution: one variable for each value"
     ]
    },
    {
     "cell_type": "code",
     "collapsed": false,
     "input": [
      "C1 = -20\n",
      "C2 = -15\n",
      "C3 = -10\n",
      "...\n",
      "C13 = 40\n"
     ],
     "language": "python",
     "metadata": {},
     "outputs": [],
     "prompt_number": 1
    },
    {
     "cell_type": "markdown",
     "metadata": {},
     "source": [
      "Stupid and boring solution if we have many values!\n",
      "\n",
      "Better: a set of values can be collected in a list"
     ]
    },
    {
     "cell_type": "code",
     "collapsed": false,
     "input": [
      "C = [-20, -15, -10, -5, 0, 5, 10, 15, 20, 25, 30, 35, 40]\n"
     ],
     "language": "python",
     "metadata": {},
     "outputs": [],
     "prompt_number": 1
    },
    {
     "cell_type": "markdown",
     "metadata": {},
     "source": [
      "Now there is one variable, `C`, holding all the values\n",
      "\n",
      "\n",
      "\n",
      "### List operations: initialization and indexing\n",
      "\n",
      "Initialize with square brackets and comma between the Python objects:"
     ]
    },
    {
     "cell_type": "code",
     "collapsed": false,
     "input": [
      "L1 = [-91, 'a string', 7.2, 0]\n"
     ],
     "language": "python",
     "metadata": {},
     "outputs": [],
     "prompt_number": 1
    },
    {
     "cell_type": "markdown",
     "metadata": {},
     "source": [
      "Elements are accessed via an index: `L1[3]` (index=3).\n",
      "\n",
      "List indices start at `0`: `0`, `1`, `2`, ... `len(L1)-1`."
     ]
    },
    {
     "cell_type": "code",
     "collapsed": false,
     "input": [
      "mylist = [4, 6, -3.5]\n",
      "print mylist[0]\n",
      "print mylist[1]\n",
      "print mylist[2]\n",
      "len(mylist)  # length of list"
     ],
     "language": "python",
     "metadata": {},
     "outputs": [],
     "prompt_number": 1
    },
    {
     "cell_type": "markdown",
     "metadata": {},
     "source": [
      "### List operations: append, extend, insert, delete"
     ]
    },
    {
     "cell_type": "code",
     "collapsed": false,
     "input": [
      "C = [-10, -5, 0, 5, 10, 15, 20, 25, 30]\n",
      "C.append(35)   # add new element 35 at the end\n",
      "C\n",
      "C = C + [40, 45]     # extend C at the end\n",
      "C\n",
      "C.insert(0, -15)     # insert -15 as index 0\n",
      "C\n",
      "del C[2]             # delete 3rd element\n",
      "C\n",
      "del C[2]             # delete what is now 3rd element\n",
      "C\n",
      "len(C)               # length of list"
     ],
     "language": "python",
     "metadata": {},
     "outputs": [],
     "prompt_number": 1
    },
    {
     "cell_type": "markdown",
     "metadata": {},
     "source": [
      "### List operations: search for elements, negative indices"
     ]
    },
    {
     "cell_type": "code",
     "collapsed": false,
     "input": [
      "C.index(10)   # index of the first element with value 10\n",
      "10 in C       # is 10 an element in C?\n",
      "C[-1]         # the last list element\n",
      "C[-2]         # the next last list element\n",
      "somelist = ['book.tex', 'book.log', 'book.pdf']\n",
      "texfile, logfile, pdf = somelist  # assign directly to variables\n",
      "texfile\n",
      "logfile\n",
      "pdf"
     ],
     "language": "python",
     "metadata": {},
     "outputs": [],
     "prompt_number": 1
    },
    {
     "cell_type": "markdown",
     "metadata": {},
     "source": [
      "### Loop over elements in a list with a for loop\n",
      "\n",
      "Use a *for* loop to loop over a list and process each element:"
     ]
    },
    {
     "cell_type": "code",
     "collapsed": false,
     "input": [
      "degrees = [0, 10, 20, 40, 100]\n",
      "for C in degrees:\n",
      "    print 'Celsius degrees:', C\n",
      "    F = 9/5.*C + 32\n",
      "    print 'Fahrenheit:', F\n",
      "print 'The degrees list has', len(degrees), 'elements'\n"
     ],
     "language": "python",
     "metadata": {},
     "outputs": [],
     "prompt_number": 1
    },
    {
     "cell_type": "markdown",
     "metadata": {},
     "source": [
      "As with *while* loops, the statements in the loop must be indented!\n",
      "\n",
      "\n",
      "\n",
      "### Simulate a for loop by hand"
     ]
    },
    {
     "cell_type": "code",
     "collapsed": false,
     "input": [
      "degrees = [0, 10, 20, 40, 100]\n",
      "for C in degrees:\n",
      "    print C\n",
      "print 'The degrees list has', len(degrees), 'elements'\n"
     ],
     "language": "python",
     "metadata": {},
     "outputs": [],
     "prompt_number": 1
    },
    {
     "cell_type": "markdown",
     "metadata": {},
     "source": [
      "Simulation by hand:\n",
      "\n",
      "  * First pass: `C` is 0\n",
      "\n",
      "  * Second pass: `C` is 10 ...and so on...\n",
      "\n",
      "  * Third pass: `C` is 20 ...and so on...\n",
      "\n",
      "  * Fifth pass: `C` is 100, now the loop is over and the program flow jumps to the first statement with the same indentation as the `for C in degrees` line\n",
      "\n",
      "### Making a table with a for loop\n",
      "\n",
      "**Table of Celsius and Fahreheit degrees:**"
     ]
    },
    {
     "cell_type": "code",
     "collapsed": false,
     "input": [
      "Cdegrees = [-20, -15, -10, -5, 0, 5, 10, 15,\n",
      "             20, 25, 30, 35, 40]\n",
      "for C in Cdegrees:\n",
      "    F = (9.0/5)*C + 32\n",
      "    print C, F\n"
     ],
     "language": "python",
     "metadata": {},
     "outputs": [],
     "prompt_number": 1
    },
    {
     "cell_type": "markdown",
     "metadata": {},
     "source": [
      "Note: `print C, F` gives ugly output. Use printf syntax to nicely\n",
      "format the two columns:"
     ]
    },
    {
     "cell_type": "code",
     "collapsed": false,
     "input": [
      "    print '%5d %5.1f' % (C, F)\n"
     ],
     "language": "python",
     "metadata": {},
     "outputs": [],
     "prompt_number": 1
    },
    {
     "cell_type": "markdown",
     "metadata": {},
     "source": [
      "Output:"
     ]
    },
    {
     "cell_type": "markdown",
     "metadata": {},
     "source": [
      "        -20  -4.0\n",
      "        -15   5.0\n",
      "        -10  14.0\n",
      "         -5  23.0\n",
      "          0  32.0\n",
      "          ......\n",
      "         35  95.0\n",
      "         40 104.0\n"
     ]
    },
    {
     "cell_type": "markdown",
     "metadata": {},
     "source": [
      "### A for loop can always be translated to a while loop\n",
      "\n",
      "The for loop"
     ]
    },
    {
     "cell_type": "code",
     "collapsed": false,
     "input": [
      "for element in somelist:\n",
      "    # process element\n"
     ],
     "language": "python",
     "metadata": {},
     "outputs": [],
     "prompt_number": 1
    },
    {
     "cell_type": "markdown",
     "metadata": {},
     "source": [
      "can always be transformed to a corresponding while loop"
     ]
    },
    {
     "cell_type": "code",
     "collapsed": false,
     "input": [
      "index = 0\n",
      "while index < len(somelist):\n",
      "    element = somelist[index]\n",
      "    # process element\n",
      "    index += 1\n"
     ],
     "language": "python",
     "metadata": {},
     "outputs": [],
     "prompt_number": 1
    },
    {
     "cell_type": "markdown",
     "metadata": {},
     "source": [
      "But not all while loops can be expressed as for loops!\n",
      "\n",
      "\n",
      "\n",
      "### While loop version of the for loop for making a table"
     ]
    },
    {
     "cell_type": "code",
     "collapsed": false,
     "input": [
      "Cdegrees = [-20, -15, -10, -5, 0, 5, 10,\n",
      "            15, 20, 25, 30, 35, 40]\n",
      "index = 0\n",
      "while index < len(Cdegrees):\n",
      "    C = Cdegrees[index]\n",
      "    F = (9.0/5)*C + 32\n",
      "    print '%5d %5.1f' % (C, F)\n",
      "    index += 1\n"
     ],
     "language": "python",
     "metadata": {},
     "outputs": [],
     "prompt_number": 1
    },
    {
     "cell_type": "markdown",
     "metadata": {},
     "source": [
      "### Implement a mathematical sum via a loop"
     ]
    },
    {
     "cell_type": "markdown",
     "metadata": {},
     "source": [
      "$$\n",
      "S = \\sum_{i=1}^N i^2\n",
      "$$"
     ]
    },
    {
     "cell_type": "code",
     "collapsed": false,
     "input": [
      "N = 14\n",
      "\n",
      "S = 0\n",
      "for i in range(1, N+1):\n",
      "    S += i**2\n"
     ],
     "language": "python",
     "metadata": {},
     "outputs": [],
     "prompt_number": 1
    },
    {
     "cell_type": "markdown",
     "metadata": {},
     "source": [
      "Or (less common):"
     ]
    },
    {
     "cell_type": "code",
     "collapsed": false,
     "input": [
      "S = 0\n",
      "i = 1\n",
      "while i <= N:\n",
      "    S += i**2\n",
      "    i += 1\n"
     ],
     "language": "python",
     "metadata": {},
     "outputs": [],
     "prompt_number": 1
    },
    {
     "cell_type": "markdown",
     "metadata": {},
     "source": [
      "Mathematical sums appear often so remember the implementation!\n",
      "\n",
      "\n",
      "\n",
      "\n",
      "### Storing the table columns as lists\n",
      "\n",
      "Let us put all the Fahrenheit values in a list as well:"
     ]
    },
    {
     "cell_type": "code",
     "collapsed": false,
     "input": [
      "Cdegrees = [-20, -15, -10, -5, 0, 5, 10,\n",
      "            15, 20, 25, 30, 35, 40]\n",
      "Fdegrees = []            # start with empty list\n",
      "for C in Cdegrees:\n",
      "    F = (9.0/5)*C + 32\n",
      "    Fdegrees.append(F)   # add new element to Fdegrees\n",
      "print Fdegrees\n"
     ],
     "language": "python",
     "metadata": {},
     "outputs": [],
     "prompt_number": 1
    },
    {
     "cell_type": "markdown",
     "metadata": {},
     "source": [
      "`print Fdegrees` results in"
     ]
    },
    {
     "cell_type": "code",
     "collapsed": false,
     "input": [
      "[-4.0, 5.0, 14.0, 23.0, 32.0, 41.0, 50.0, 59.0,\n",
      " 68.0, 77.0, 86.0, 95.0, 104.0]\n"
     ],
     "language": "python",
     "metadata": {},
     "outputs": [],
     "prompt_number": 1
    },
    {
     "cell_type": "markdown",
     "metadata": {},
     "source": [
      "### For loop with list indices\n",
      "\n",
      "For loops usually loop over list values (elements):"
     ]
    },
    {
     "cell_type": "code",
     "collapsed": false,
     "input": [
      "for element in somelist:\n",
      "    # process variable element\n"
     ],
     "language": "python",
     "metadata": {},
     "outputs": [],
     "prompt_number": 1
    },
    {
     "cell_type": "markdown",
     "metadata": {},
     "source": [
      "We can alternatively loop over list indices:"
     ]
    },
    {
     "cell_type": "code",
     "collapsed": false,
     "input": [
      "for i in range(0, len(somelist), 1):\n",
      "    element = somelist[i]\n",
      "    # process element or somelist[i] directly\n"
     ],
     "language": "python",
     "metadata": {},
     "outputs": [],
     "prompt_number": 1
    },
    {
     "cell_type": "markdown",
     "metadata": {},
     "source": [
      "`range(start, stop, inc)` generates a list of integers `start`, `start+inc`, `start+2*inc`, and so on up to, *but not including*, `stop`.\n",
      "`range(stop)` is short for `range(0, stop, 1)`."
     ]
    },
    {
     "cell_type": "code",
     "collapsed": false,
     "input": [
      "range(3)         # = range(0, 3, 1)\n",
      "range(2, 8, 3)"
     ],
     "language": "python",
     "metadata": {},
     "outputs": [],
     "prompt_number": 1
    },
    {
     "cell_type": "markdown",
     "metadata": {},
     "source": [
      "### How can we change the elements in a list?\n",
      "\n",
      "**Say we want to add 2 to all numbers in a list:**"
     ]
    },
    {
     "cell_type": "code",
     "collapsed": false,
     "input": [
      "v = [-1, 1, 10]\n",
      "for e in v:\n",
      "    e = e + 2\n",
      "v"
     ],
     "language": "python",
     "metadata": {},
     "outputs": [],
     "prompt_number": 1
    },
    {
     "cell_type": "code",
     "collapsed": false,
     "input": [
      "v = [-1, 1, 10]\n",
      "for e in v:\n",
      "    e = e + 2\n"
     ],
     "language": "python",
     "metadata": {},
     "outputs": [],
     "prompt_number": 1
    },
    {
     "cell_type": "markdown",
     "metadata": {},
     "source": [
      "### Changing a list element requires assignment to an indexed element\n",
      "\n",
      "\n",
      "What is the problem?\n",
      "\n",
      "Inside the loop, `e` is an ordinary (`int`) variable, first time `e` becomes 1, next time `e` becomes 3, and then 12 - but the list `v` is unaltered\n",
      "\n",
      "Solution: must *index a list element* to change its value:"
     ]
    },
    {
     "cell_type": "code",
     "collapsed": false,
     "input": [
      "v[1] = 4    # assign 4 to 2nd element (index 1) in v\n",
      "v\n",
      "for i in range(len(v)):\n",
      "    v[i] = v[i] + 2\n",
      "v"
     ],
     "language": "python",
     "metadata": {},
     "outputs": [],
     "prompt_number": 1
    },
    {
     "cell_type": "markdown",
     "metadata": {},
     "source": [
      "### List comprehensions: compact creation of lists\n",
      "\n",
      "**Example: compute two lists in a for loop.**"
     ]
    },
    {
     "cell_type": "code",
     "collapsed": false,
     "input": [
      "n = 16\n",
      "Cdegrees = [];  Fdegrees = []  # empty lists\n",
      "\n",
      "for i in range(n):\n",
      "    Cdegrees.append(-5 + i*0.5)\n",
      "    Fdegrees.append((9.0/5)*Cdegrees[i] + 32)\n"
     ],
     "language": "python",
     "metadata": {},
     "outputs": [],
     "prompt_number": 1
    },
    {
     "cell_type": "markdown",
     "metadata": {},
     "source": [
      "Python has a compact construct, called *list comprehension*, for generating lists from a for loop:"
     ]
    },
    {
     "cell_type": "code",
     "collapsed": false,
     "input": [
      "Cdegrees = [-5 + i*0.5 for i in range(n)]\n",
      "Fdegrees = [(9.0/5)*C + 32 for C in Cdegrees]\n"
     ],
     "language": "python",
     "metadata": {},
     "outputs": [],
     "prompt_number": 1
    },
    {
     "cell_type": "markdown",
     "metadata": {},
     "source": [
      "General form of a list comprehension:"
     ]
    },
    {
     "cell_type": "code",
     "collapsed": false,
     "input": [
      "somelist = [expression for element in somelist]\n"
     ],
     "language": "python",
     "metadata": {},
     "outputs": [],
     "prompt_number": 1
    },
    {
     "cell_type": "markdown",
     "metadata": {},
     "source": [
      "where `expression` involves `element`\n",
      "\n",
      "\n",
      "\n",
      "### Interactive demonstration of list comprehensions"
     ]
    },
    {
     "cell_type": "code",
     "collapsed": false,
     "input": [
      "n = 4\n",
      "Cdegrees = [-5 + i*2 for i in range(n)]\n",
      "Fdegrees = [(9.0/5)*C + 32 for C in Cdegrees]\n"
     ],
     "language": "python",
     "metadata": {},
     "outputs": [],
     "prompt_number": 1
    },
    {
     "cell_type": "markdown",
     "metadata": {},
     "source": [
      "### Traversing multiple lists simultaneously with zip\n",
      "\n",
      "**Can we one loop running over two lists?**\n",
      "\n",
      "\n",
      "Solution 1: loop over indices"
     ]
    },
    {
     "cell_type": "code",
     "collapsed": false,
     "input": [
      "for i in range(len(Cdegrees)):\n",
      "    print Cdegrees[i], Fdegrees[i]\n"
     ],
     "language": "python",
     "metadata": {},
     "outputs": [],
     "prompt_number": 1
    },
    {
     "cell_type": "markdown",
     "metadata": {},
     "source": [
      "Solution 2: use the `zip` construct (more \"Pythonic\"):"
     ]
    },
    {
     "cell_type": "code",
     "collapsed": false,
     "input": [
      "for C, F in zip(Cdegrees, Fdegrees):\n",
      "    print C, F\n"
     ],
     "language": "python",
     "metadata": {},
     "outputs": [],
     "prompt_number": 1
    },
    {
     "cell_type": "markdown",
     "metadata": {},
     "source": [
      "Example with three lists:"
     ]
    },
    {
     "cell_type": "code",
     "collapsed": false,
     "input": [
      "l1 = [3, 6, 1];  l2 = [1.5, 1, 0];  l3 = [9.1, 3, 2]\n",
      "for e1, e2, e3 in zip(l1, l2, l3):\n",
      "    print e1, e2, e3"
     ],
     "language": "python",
     "metadata": {},
     "outputs": [],
     "prompt_number": 1
    },
    {
     "cell_type": "markdown",
     "metadata": {},
     "source": [
      "### Nested lists: list of lists\n",
      "\n",
      "  * A list can contain *any* object, also another list\n",
      "\n",
      "  * Instead of storing a table as two separate lists (one for each column), we can stick the two lists together in a new list:"
     ]
    },
    {
     "cell_type": "code",
     "collapsed": false,
     "input": [
      "Cdegrees = range(-20, 41, 5)\n",
      "Fdegrees = [(9.0/5)*C + 32 for C in Cdegrees]\n",
      "\n",
      "table1 = [Cdegrees, Fdegrees]  # list of two lists\n",
      "\n",
      "table1[0]     # the Cdegrees list\n",
      "table1[1]     # the Fdegrees list\n",
      "table1[1][2]  # the 3rd element in Fdegrees\n"
     ],
     "language": "python",
     "metadata": {},
     "outputs": [],
     "prompt_number": 1
    },
    {
     "cell_type": "markdown",
     "metadata": {},
     "source": [
      "### Table of columns vs table of rows\n",
      "\n",
      "  * The previous `table = [Cdegrees,Fdegrees]` is a table of (two) columns\n",
      "\n",
      "  * Let us make a table of rows instead, each row is a `[C,F]` pair:"
     ]
    },
    {
     "cell_type": "code",
     "collapsed": false,
     "input": [
      "table2 = []\n",
      "for C, F in zip(Cdegrees, Fdegrees):\n",
      "    row = [C, F]\n",
      "    table2.append(row)\n",
      "\n",
      "# more compact with list comprehension:\n",
      "table2 = [[C, F] for C, F in zip(Cdegrees, Fdegrees)]\n"
     ],
     "language": "python",
     "metadata": {},
     "outputs": [],
     "prompt_number": 1
    },
    {
     "cell_type": "markdown",
     "metadata": {},
     "source": [
      "`print table2`"
     ]
    },
    {
     "cell_type": "code",
     "collapsed": false,
     "input": [
      "[[-20, -4.0], [-15, 5.0], ......., [40, 104.0]]\n"
     ],
     "language": "python",
     "metadata": {},
     "outputs": [],
     "prompt_number": 1
    },
    {
     "cell_type": "markdown",
     "metadata": {},
     "source": [
      "Iteration over a nested list:"
     ]
    },
    {
     "cell_type": "code",
     "collapsed": false,
     "input": [
      "for C, F in table2:\n",
      "    # work with C and F from a row in table2\n",
      "\n",
      "# or\n",
      "for row in table2:\n",
      "    C, F = row\n",
      "    ...\n"
     ],
     "language": "python",
     "metadata": {},
     "outputs": [],
     "prompt_number": 1
    },
    {
     "cell_type": "markdown",
     "metadata": {},
     "source": [
      "### Illustration of table of columns\n",
      "\n",
      "\n",
      "<p></p>\n",
      "<img src=\"fig-looplist/table1.png\" width=340>\n",
      "\n",
      "\n",
      "\n",
      "### Illustration of table of rows\n",
      "\n",
      "\n",
      "<p></p>\n",
      "<img src=\"fig-looplist/table2.png\" width=400>\n",
      "\n",
      "\n",
      "\n",
      "\n",
      "### Extracting sublists (or slices)\n",
      "\n",
      "We can easily grab parts of a list:"
     ]
    },
    {
     "cell_type": "code",
     "collapsed": false,
     "input": [
      "A = [2, 3.5, 8, 10]\n",
      "A[2:]   # from index 2 to end of list\n",
      "A[1:3]  # from index 1 up to, but not incl., index 3\n",
      "A[:3]   # from start up to, but not incl., index 3\n",
      "A[1:-1] # from index 1 to next last element\n",
      "A[:]    # the whole list"
     ],
     "language": "python",
     "metadata": {},
     "outputs": [],
     "prompt_number": 1
    },
    {
     "cell_type": "markdown",
     "metadata": {},
     "source": [
      "Note: sublists (slices) are *copies* of the original list!\n",
      "\n",
      "\n",
      "\n",
      "### What does this code snippet do?"
     ]
    },
    {
     "cell_type": "code",
     "collapsed": false,
     "input": [
      "for C, F in table2[Cdegrees.index(10):Cdegrees.index(35)]:\n",
      "    print '%5.0f %5.1f' % (C, F)\n"
     ],
     "language": "python",
     "metadata": {},
     "outputs": [],
     "prompt_number": 1
    },
    {
     "cell_type": "markdown",
     "metadata": {},
     "source": [
      "* This is a for loop over a sublist of `table2`\n",
      "\n",
      "  * Sublist indices: `Cdegrees.index(10)`, `Cdegrees.index(35)`, i.e., the indices corresponding to elements 10 and 35\n",
      "\n",
      "Output:"
     ]
    },
    {
     "cell_type": "code",
     "collapsed": false,
     "input": [
      "10  50.0\n",
      "15  59.0\n",
      "20  68.0\n",
      "25  77.0\n",
      "30  86.0\n"
     ],
     "language": "python",
     "metadata": {},
     "outputs": [],
     "prompt_number": 1
    },
    {
     "cell_type": "markdown",
     "metadata": {},
     "source": [
      "### Iteration over general nested lists\n",
      "\n",
      "List with many indices: `somelist[i1][i2][i3]...`\n",
      "\n",
      "\n",
      "\n",
      "**Loops over list indices:**"
     ]
    },
    {
     "cell_type": "code",
     "collapsed": false,
     "input": [
      "for i1 in range(len(somelist)):\n",
      "    for i2 in range(len(somelist[i1])):\n",
      "        for i3 in range(len(somelist[i1][i2])):\n",
      "            for i4 in range(len(somelist[i1][i2][i3])):\n",
      "                value = somelist[i1][i2][i3][i4]\n",
      "                # work with value\n"
     ],
     "language": "python",
     "metadata": {},
     "outputs": [],
     "prompt_number": 1
    },
    {
     "cell_type": "markdown",
     "metadata": {},
     "source": [
      "**Loops over sublists:**"
     ]
    },
    {
     "cell_type": "code",
     "collapsed": false,
     "input": [
      "for sublist1 in somelist:\n",
      "    for sublist2 in sublist1:\n",
      "        for sublist3 in sublist2:\n",
      "            for sublist4 in sublist3:\n",
      "                value = sublist4\n",
      "                # work with value\n"
     ],
     "language": "python",
     "metadata": {},
     "outputs": [],
     "prompt_number": 1
    },
    {
     "cell_type": "markdown",
     "metadata": {},
     "source": [
      "### Iteration over a specific nested list"
     ]
    },
    {
     "cell_type": "code",
     "collapsed": false,
     "input": [
      "L = [[9, 7], [-1, 5, 6]]\n",
      "for row in L:\n",
      "    for column in row:\n",
      "        print column\n"
     ],
     "language": "python",
     "metadata": {},
     "outputs": [],
     "prompt_number": 1
    },
    {
     "cell_type": "markdown",
     "metadata": {},
     "source": [
      "Simulate this program by hand!\n",
      "\n",
      "**Question.**\n",
      "\n",
      "How can we index element with value 5?\n",
      "\n",
      "\n",
      "\n",
      "### Tuples are constant lists\n",
      "\n",
      "Tuples are constant lists that cannot be changed:"
     ]
    },
    {
     "cell_type": "code",
     "collapsed": false,
     "input": [
      "t = (2, 4, 6, 'temp.pdf')    # define a tuple\n",
      "t =  2, 4, 6, 'temp.pdf'     # can skip parenthesis\n",
      "t[1] = -1\n",
      "t.append(0)\n",
      "del t[1]"
     ],
     "language": "python",
     "metadata": {},
     "outputs": [],
     "prompt_number": 1
    },
    {
     "cell_type": "markdown",
     "metadata": {},
     "source": [
      "Tuples can do much of what lists can do:"
     ]
    },
    {
     "cell_type": "code",
     "collapsed": false,
     "input": [
      "t = t + (-1.0, -2.0)           # add two tuples\n",
      "t\n",
      "t[1]                           # indexing\n",
      "t[2:]                          # subtuple/slice\n",
      "6 in t                         # membership"
     ],
     "language": "python",
     "metadata": {},
     "outputs": [],
     "prompt_number": 1
    },
    {
     "cell_type": "markdown",
     "metadata": {},
     "source": [
      "### Why tuples when lists have more functionality?\n",
      "\n",
      "  * Tuples are constant and thus protected against accidental changes\n",
      "\n",
      "  * Tuples are faster than lists\n",
      "\n",
      "  * Tuples are widely used in Python software\n",
      "    (so you need to know about them!)\n",
      "\n",
      "  * Tuples (but not lists) can be used as keys is dictionaries\n",
      "    (more about dictionaries later)\n",
      "\n",
      "\n",
      "\n",
      "\n",
      "### Summary of loops, lists and tuples\n",
      "\n",
      "While loops and for loops:"
     ]
    },
    {
     "cell_type": "code",
     "collapsed": false,
     "input": [
      "while condition:\n",
      "    <block of statements>\n",
      "\n",
      "for element in somelist:\n",
      "    <block of statements>\n"
     ],
     "language": "python",
     "metadata": {},
     "outputs": [],
     "prompt_number": 1
    },
    {
     "cell_type": "markdown",
     "metadata": {},
     "source": [
      "Lists and tuples:"
     ]
    },
    {
     "cell_type": "code",
     "collapsed": false,
     "input": [
      "mylist  = ['a string', 2.5, 6, 'another string']\n",
      "mytuple = ('a string', 2.5, 6, 'another string')\n",
      "mylist[1]  = -10\n",
      "mylist.append('a third string')\n",
      "mytuple[1] = -10  # illegal: cannot change a tuple\n"
     ],
     "language": "python",
     "metadata": {},
     "outputs": [],
     "prompt_number": 1
    },
    {
     "cell_type": "markdown",
     "metadata": {},
     "source": [
      "### List functionality\n",
      "\n",
      "\n",
      "<table border=\"1\">\n",
      "<thead>\n",
      "<tr><th align=\"center\">       Construction      </th> <th align=\"center\">                    Meaning                    </th> </tr>\n",
      "</thead>\n",
      "<tbody>\n",
      "<tr><td align=\"left\">   <code>a = [] </code>                    </td> <td align=\"left\">   initialize an empty list                           </td> </tr>\n",
      "<tr><td align=\"left\">   <code>a = [1, 4.4, 'run.py'] </code>    </td> <td align=\"left\">   initialize a list                                  </td> </tr>\n",
      "<tr><td align=\"left\">   <code>a.append(elem)</code>             </td> <td align=\"left\">   add <code>elem</code> object to the end                       </td> </tr>\n",
      "<tr><td align=\"left\">   <code>a + [1,3]</code>                  </td> <td align=\"left\">   add two lists                                      </td> </tr>\n",
      "<tr><td align=\"left\">   <code>a.insert(i, e)</code>             </td> <td align=\"left\">   insert element <code>e</code> before index <code>i</code>                </td> </tr>\n",
      "<tr><td align=\"left\">   <code>a[3]</code>                       </td> <td align=\"left\">   index a list element                               </td> </tr>\n",
      "<tr><td align=\"left\">   <code>a[-1]</code>                      </td> <td align=\"left\">   get last list element                              </td> </tr>\n",
      "<tr><td align=\"left\">   <code>a[1:3]</code>                     </td> <td align=\"left\">   slice: copy data to sublist (here: index 1, 2)     </td> </tr>\n",
      "<tr><td align=\"left\">   <code>del a[3]</code>                   </td> <td align=\"left\">   delete an element (index <code>3</code>)                      </td> </tr>\n",
      "<tr><td align=\"left\">   <code>a.remove(e)</code>                </td> <td align=\"left\">   remove an element with value <code>e</code>                   </td> </tr>\n",
      "<tr><td align=\"left\">   <code>a.index('run.py')</code>          </td> <td align=\"left\">   find index corresponding to an element's value     </td> </tr>\n",
      "<tr><td align=\"left\">   <code>'run.py' in a</code>              </td> <td align=\"left\">   test if a value is contained in the list           </td> </tr>\n",
      "<tr><td align=\"left\">   <code>a.count(v)</code>                 </td> <td align=\"left\">   count how many elements that have the value <code>v</code>    </td> </tr>\n",
      "<tr><td align=\"left\">   <code>len(a)</code>                     </td> <td align=\"left\">   number of elements in list <code>a</code>                     </td> </tr>\n",
      "<tr><td align=\"left\">   <code>min(a)</code>                     </td> <td align=\"left\">   the smallest element in <code>a</code>                        </td> </tr>\n",
      "<tr><td align=\"left\">   <code>max(a)</code>                     </td> <td align=\"left\">   the largest element in <code>a</code>                         </td> </tr>\n",
      "<tr><td align=\"left\">   <code>sum(a)</code>                     </td> <td align=\"left\">   add all elements in <code>a</code>                            </td> </tr>\n",
      "<tr><td align=\"left\">   <code>sorted(a)</code>                  </td> <td align=\"left\">   return sorted version of list <code>a</code>                  </td> </tr>\n",
      "<tr><td align=\"left\">   <code>reversed(a)</code>                </td> <td align=\"left\">   return reversed sorted version of list <code>a</code>         </td> </tr>\n",
      "<tr><td align=\"left\">   <code>b[3][0][2]</code>                 </td> <td align=\"left\">   nested list indexing                               </td> </tr>\n",
      "<tr><td align=\"left\">   <code>isinstance(a, list)</code>        </td> <td align=\"left\">   is <code>True</code> if <code>a</code> is a list                         </td> </tr>\n",
      "<tr><td align=\"left\">   <code>type(a) is list</code>            </td> <td align=\"left\">   is <code>True</code> if <code>a</code> is a list                         </td> </tr>\n",
      "</tbody>\n",
      "</table>\n",
      "\n",
      "\n",
      "### A summarizing example; problem\n",
      "\n",
      "`src/misc/Oxford_sun_hours.txt`: data of the no of sun hours in Oxford, UK, for every month since Jan, 1929:"
     ]
    },
    {
     "cell_type": "code",
     "collapsed": false,
     "input": [
      "[\n",
      "[43.8, 60.5, 190.2, ...],\n",
      "[49.9, 54.3, 109.7, ...],\n",
      "[63.7, 72.0, 142.3, ...],\n",
      "...\n",
      "]\n"
     ],
     "language": "python",
     "metadata": {},
     "outputs": [],
     "prompt_number": 1
    },
    {
     "cell_type": "markdown",
     "metadata": {},
     "source": [
      "Tasks:\n",
      "\n",
      "  * Compute the average number of sun hours for each month during\n",
      "\n",
      "the total data period (1929--2009)',\n",
      "r'Which month has the best weather according to the means found in the\n",
      "preceding task?\n",
      "  * For each decade, 1930-1939, 1949-1949, $\\ldots$, 2000-2009,\n",
      "\n",
      "compute the average number of sun hours per day in January\n",
      "and December\n",
      "\n",
      "\n",
      "\n",
      "### A summarizing example; program (task 1)"
     ]
    },
    {
     "cell_type": "code",
     "collapsed": false,
     "input": [
      "data = [\n",
      "[43.8, 60.5, 190.2, ...],\n",
      "[49.9, 54.3, 109.7, ...],\n",
      "[63.7, 72.0, 142.3, ...],\n",
      "...\n",
      "]\n",
      "monthly_mean = [0]*12\n",
      "for month in range(1, 13):\n",
      "    m = month - 1   # corresponding list index (starts at 0)\n",
      "    s = 0           # sum\n",
      "    n = 2009 - 1929 + 1  # no of years\n",
      "    for year in range(1929, 2010):\n",
      "        y = year - 1929  # corresponding list index (starts at 0)\n",
      "        s += data[y][m]\n",
      "    monthly_mean[m] = s/n\n",
      "month_names = ['Jan', 'Feb', 'Mar', 'Apr', 'May', 'Jun',\n",
      "               'Jul', 'Aug', 'Sep', 'Oct', 'Nov', 'Dec']\n",
      "# nice printout:\n",
      "for name, value in zip(month_names, monthly_mean):\n",
      "    print '%s: %.1f' % (name, value)\n"
     ],
     "language": "python",
     "metadata": {},
     "outputs": [],
     "prompt_number": 1
    },
    {
     "cell_type": "markdown",
     "metadata": {},
     "source": [
      "### A summarizing example; program (task 2)"
     ]
    },
    {
     "cell_type": "code",
     "collapsed": false,
     "input": [
      "max_value = max(monthly_mean)\n",
      "month = month_names[monthly_mean.index(max_value)]\n",
      "print '%s has best weather with %.1f sun hours on average' % \\\n",
      "      (month, max_value)\n",
      "\n",
      "max_value = -1E+20\n",
      "for i in range(len(monthly_mean)):\n",
      "    value = monthly_mean[i]\n",
      "    if value > max_value:\n",
      "        max_value = value\n",
      "        max_i = i  # store index too\n",
      "print '%s has best weather with %.1f sun hours on average' % \\\n",
      "      (month_names[max_i], max_value)\n"
     ],
     "language": "python",
     "metadata": {},
     "outputs": [],
     "prompt_number": 1
    },
    {
     "cell_type": "markdown",
     "metadata": {},
     "source": [
      "### A summarizing example; program (task 3)"
     ]
    },
    {
     "cell_type": "code",
     "collapsed": false,
     "input": [
      "decade_mean = []\n",
      "for decade_start in range(1930, 2010, 10):\n",
      "    Jan_index = 0; Dec_index = 11  # indices\n",
      "    s = 0\n",
      "    for year in range(decade_start, decade_start+10):\n",
      "        y = year - 1929  # list index\n",
      "        print data[y-1][Dec_index] + data[y][Jan_index]\n",
      "        s += data[y-1][Dec_index] + data[y][Jan_index]\n",
      "    decade_mean.append(s/(20.*30))\n",
      "for i in range(len(decade_mean)):\n",
      "    print 'Decade %d-%d: %.1f' % \\\n",
      "          (1930+i*10, 1939+i*10, decade_mean[i])\n"
     ],
     "language": "python",
     "metadata": {},
     "outputs": [],
     "prompt_number": 1
    },
    {
     "cell_type": "markdown",
     "metadata": {},
     "source": [
      "### Using a debugger to trace the execution\n",
      "\n",
      "A *debugger* is a program that can be used to inspect and understand programs.\n",
      "Example:"
     ]
    },
    {
     "cell_type": "code",
     "collapsed": false,
     "input": [
      "run -d some_program.py"
     ],
     "language": "python",
     "metadata": {},
     "outputs": [],
     "prompt_number": 1
    },
    {
     "cell_type": "markdown",
     "metadata": {},
     "source": [
      "### How to find Python info\n",
      "\n",
      "  * The book contains only fragments of the Python language \n",
      "    (intended for real beginners!)\n",
      "\n",
      "  * These slides are even briefer, so you will need to look up more Python information\n",
      "\n",
      "  * Primary reference: The official Python documentation at [`docs.python.org`](http://docs.python.org/index.html)\n",
      "\n",
      "  * Very useful: The Python Library Reference, especially the [index](https://docs.python.org/2/genindex.html)\n",
      "\n",
      "  * Example: what can I find in the `math` module?\n",
      "\n",
      "    * Go to the [Python Library Reference](https://docs.python.org/2/reference/index.html), click [index](https://docs.python.org/2/genindex.html)\n",
      "\n",
      "    * Go to [M](https://docs.python.org/2/genindex-M.html)\n",
      "\n",
      "    * find *math (module)*, click on the [link](https://docs.python.org/2/library/math.html#module-math)\n",
      "\n",
      "\n",
      "  * Alternative: run `pydoc math` in the terminal window (briefer)\n",
      "\n",
      "\n",
      "\n",
      "### Warning about reading programming documentation\n",
      "\n",
      "**Warning.**\n",
      "\n",
      "For a newbie it is difficult to read manuals (intended for experts!) - you will need a lot of training; just browse, don't read everything, try to dig out the key info.\n",
      "\n",
      "It's much like googling in general: only a fraction of the information\n",
      "is relevant for you."
     ]
    }
   ],
   "metadata": {}
  }
 ]
}
