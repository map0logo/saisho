{
 "metadata": {},
 "nbformat": 3,
 "nbformat_minor": 0,
 "worksheets": [
  {
   "cells": [
    {
     "cell_type": "markdown",
     "metadata": {},
     "source": [
      "# Ch.8: Random numbers and simple games\n",
      "**Oct 30, 2014**\n",
      "\n",
      "## Use of random numbers in programs\n",
      "\n",
      "\n",
      "<p></p>\n",
      "<img src=\"fig-random/associations/random_dice2.jpg\" width=400>\n",
      "\n",
      "\n",
      "\n",
      "\n",
      "<p></p>\n",
      "<img src=\"fig-random/associations/random_numbers2.png\" width=400>\n",
      "\n",
      "\n",
      "\n",
      "### Random numbers are used to simulate uncertain events\n",
      "\n",
      "**Deterministic problems.**\n",
      "\n",
      "  * Some problems in science and technology are desrcribed by \"exact\" mathematics, leading to \"precise\" results\n",
      "\n",
      "  * Example: throwing a ball up in the air ($y(t)=v_0t - \\frac{1}{2}gt^2$)\n",
      "\n",
      "\n",
      "\n",
      "**Stochastic problems.**\n",
      "\n",
      " * Some problems appear physically uncertain\n",
      "\n",
      " * Examples: rolling a die, molecular motion, games\n",
      "\n",
      " * Use *random numbers* to mimic the uncertainty of the experiment.\n",
      "\n",
      "\n",
      "\n",
      "\n",
      "### Drawing random numbers\n",
      "\n",
      "Python has a `random` module for drawing random numbers.\n",
      "`random.random()` draws random numbers in $[0,1)$:"
     ]
    },
    {
     "cell_type": "code",
     "collapsed": false,
     "input": [
      "import random\n",
      "random.random()\n",
      "random.random()\n",
      "random.random()"
     ],
     "language": "python",
     "metadata": {},
     "outputs": [],
     "prompt_number": 1
    },
    {
     "cell_type": "markdown",
     "metadata": {},
     "source": [
      "**Notice**\n",
      "\n",
      "The sequence of random numbers is produced by a deterministic algorithm - the numbers just appear random.\n",
      "\n",
      "\n",
      "\n",
      "\n",
      "### Distribution of random numbers\n",
      "\n",
      "  * `random.random()` generates random numbers that are *uniformly distributed* in the interval $[0,1)$\n",
      "\n",
      "  * `random.uniform(a, b)` generates random numbers uniformly distributed in $[a,b)$\n",
      "\n",
      "  * \"Uniformly distributed\" means that if we generate a large set of numbers, no part of $[a,b)$ gets more numbers than others\n",
      "\n",
      "\n",
      "\n",
      "### Distribution of random numbers visualized"
     ]
    },
    {
     "cell_type": "code",
     "collapsed": false,
     "input": [
      "%matplotlib inline\n",
      "\n",
      "N = 500  # no of samples\n",
      "x = range(N)\n",
      "y = [random.uniform(-1,1) for i in x]\n",
      "from scitools.std import plot\n",
      "plot(x, y, '+', axis=[0,N-1,-1.2,1.2])\n"
     ],
     "language": "python",
     "metadata": {},
     "outputs": [],
     "prompt_number": 1
    },
    {
     "cell_type": "markdown",
     "metadata": {},
     "source": [
      "<p></p>\n",
      "<img src=\"fig-random/uniform_numbers.png\" width=480>\n",
      "\n",
      "\n",
      "\n",
      "\n",
      "### Vectorized drawing of random numbers\n",
      "\n",
      "  * `random.random()` generates one number at a time\n",
      "\n",
      "  * `numpy` has a `random` module that efficiently generates a (large) number of random numbers at a time"
     ]
    },
    {
     "cell_type": "code",
     "collapsed": false,
     "input": [
      "from numpy import random\n",
      "r = random.random()            # one no between 0 and 1\n",
      "r = random.random(size=10000)  # array with 10000 numbers\n",
      "r = random.uniform(-1, 10)     # one no between -1 and 10\n",
      "r = random.uniform(-1, 10, size=10000)  # array\n"
     ],
     "language": "python",
     "metadata": {},
     "outputs": [],
     "prompt_number": 1
    },
    {
     "cell_type": "markdown",
     "metadata": {},
     "source": [
      "* Vectorized drawing is important for speeding up programs!\n",
      "\n",
      "  * Possible problem: two `random` modules, one Python \"built-in\" and one in `numpy` (`np`)\n",
      "\n",
      "  * Convention: use `random` (Python) and `np.random`"
     ]
    },
    {
     "cell_type": "code",
     "collapsed": false,
     "input": [
      "random.uniform(-1, 1)                 # scalar number\n",
      "import numpy as np\n",
      "np.random.uniform(-1, 1, 100000)      # vectorized\n"
     ],
     "language": "python",
     "metadata": {},
     "outputs": [],
     "prompt_number": 1
    },
    {
     "cell_type": "markdown",
     "metadata": {},
     "source": [
      "### Drawing integers\n",
      "\n",
      "  * Quite often we want to draw an integer from $[a,b]$ and not a real number\n",
      "\n",
      "  * Python's `random` module and `numpy.random` have functions for drawing uniformly distributed integers:"
     ]
    },
    {
     "cell_type": "code",
     "collapsed": false,
     "input": [
      "import random\n",
      "r = random.randint(a, b)  # a, a+1, ..., b\n",
      "\n",
      "import numpy as np\n",
      "r = np.random.randint(a, b+1, N)         # b+1 is not included\n",
      "r = np.random.random_integers(a, b, N)   # b is included\n"
     ],
     "language": "python",
     "metadata": {},
     "outputs": [],
     "prompt_number": 1
    },
    {
     "cell_type": "markdown",
     "metadata": {},
     "source": [
      "### Example: Rolling a die\n",
      "\n",
      "**Problem.**\n",
      "\n",
      "  * Any no of eyes, 1-6, is equally probable when you roll a die\n",
      "\n",
      "  * What is the chance of getting a 6?\n",
      "\n",
      "\n",
      "\n",
      "**Solution by Monte Carlo simulation:**\n",
      "\n",
      "Rolling a die is the same as drawing integers in $[1,6]$."
     ]
    },
    {
     "cell_type": "code",
     "collapsed": false,
     "input": [
      "import random\n",
      "N = 10000\n",
      "eyes = [random.randint(1, 6) for i in range(N)]\n",
      "M = 0  # counter for successes: how many times we get 6 eyes\n",
      "for outcome in eyes:\n",
      "    if outcome == 6:\n",
      "        M += 1\n",
      "print 'Got six %d times out of %d' % (M, N)\n",
      "print 'Probability:', float(M)/N\n"
     ],
     "language": "python",
     "metadata": {},
     "outputs": [],
     "prompt_number": 1
    },
    {
     "cell_type": "markdown",
     "metadata": {},
     "source": [
      "Probability: `M/N` (exact: $1/6$)\n",
      "\n",
      "\n",
      "\n",
      "### Example: Rolling a die; vectorized version"
     ]
    },
    {
     "cell_type": "code",
     "collapsed": false,
     "input": [
      "import sys, numpy as np\n",
      "N = int(sys.argv[1])\n",
      "eyes = np.random.randint(1, 7, N)\n",
      "success = eyes == 6        # True/False array\n",
      "six = np.sum(success)      # treats True as 1, False as 0\n",
      "print 'Got six %d times out of %d' % (six, N)\n",
      "print 'Probability:', float(M)/N\n"
     ],
     "language": "python",
     "metadata": {},
     "outputs": [],
     "prompt_number": 1
    },
    {
     "cell_type": "markdown",
     "metadata": {},
     "source": [
      "**Impoartant!**\n",
      "\n",
      "Use `sum` from `numpy` and not Python's built-in `sum` function! (The latter is slow, often making a vectorized version slower than the scalar version.)\n",
      "\n",
      "\n",
      "\n",
      "### Debugging programs with random numbers requires fixing the seed of the random sequence\n",
      "\n",
      "  * Debugging programs with random numbers is difficult because the numbers produced vary each time we run the program\n",
      "\n",
      "  * For debugging it is important that a new run reproduces the sequence of random numbers in the last run\n",
      "\n",
      "  * This is possible by fixing the *seed* of the `random` module: \n",
      "    `random.seed(121)`   (`int` argument)"
     ]
    },
    {
     "cell_type": "code",
     "collapsed": false,
     "input": [
      "import random\n",
      "random.seed(2)\n",
      "['%.2f' % random.random() for i in range(7)]\n",
      "['%.2f' % random.random() for i in range(7)]\n",
      "random.seed(2)    # repeat the random sequence\n",
      "['%.2f' % random.random() for i in range(7)]"
     ],
     "language": "python",
     "metadata": {},
     "outputs": [],
     "prompt_number": 1
    },
    {
     "cell_type": "markdown",
     "metadata": {},
     "source": [
      "By default, the seed is based on the current time\n",
      "\n",
      "\n",
      "\n",
      "\n",
      "### Drawing random elements from a list\n",
      "\n",
      "There are different methods for picking an element from a list at random, but the main method applies `choice(list)`:"
     ]
    },
    {
     "cell_type": "code",
     "collapsed": false,
     "input": [
      "awards = ['car', 'computer', 'ball', 'pen']\n",
      "import random\n",
      "random.choice(awards)"
     ],
     "language": "python",
     "metadata": {},
     "outputs": [],
     "prompt_number": 1
    },
    {
     "cell_type": "markdown",
     "metadata": {},
     "source": [
      "Alternatively, we can compute a random index:"
     ]
    },
    {
     "cell_type": "code",
     "collapsed": false,
     "input": [
      "index = random.randint(0, len(awards)-1)\n",
      "awards[index]"
     ],
     "language": "python",
     "metadata": {},
     "outputs": [],
     "prompt_number": 1
    },
    {
     "cell_type": "markdown",
     "metadata": {},
     "source": [
      "We can also shuffle the list randomly, and then pick any element:"
     ]
    },
    {
     "cell_type": "code",
     "collapsed": false,
     "input": [
      "random.shuffle(awards)\n",
      "awards[0]"
     ],
     "language": "python",
     "metadata": {},
     "outputs": [],
     "prompt_number": 1
    },
    {
     "cell_type": "markdown",
     "metadata": {},
     "source": [
      "### Example: Drawing cards from a deck; make deck and draw\n",
      "\n",
      "**Make a deck of cards:**"
     ]
    },
    {
     "cell_type": "code",
     "collapsed": false,
     "input": [
      "# A: ace, J: jack, Q: queen, K: king\n",
      "# C: clubs, D: diamonds, H: hearts, S: spades\n",
      "\n",
      "def make_deck():\n",
      "    ranks = ['A', '2', '3', '4', '5', '6', '7',\n",
      "             '8', '9', '10', 'J', 'Q', 'K']\n",
      "    suits = ['C', 'D', 'H', 'S']\n",
      "    deck = []\n",
      "    for s in suits:\n",
      "        for r in ranks:\n",
      "            deck.append(s + r)\n",
      "    random.shuffle(deck)\n",
      "    return deck\n",
      "\n",
      "deck = make_deck()\n"
     ],
     "language": "python",
     "metadata": {},
     "outputs": [],
     "prompt_number": 1
    },
    {
     "cell_type": "markdown",
     "metadata": {},
     "source": [
      "**Draw a card at random:**"
     ]
    },
    {
     "cell_type": "code",
     "collapsed": false,
     "input": [
      "deck = make_deck()\n",
      "card = deck[0]\n",
      "del deck[0]\n",
      "\n",
      "card = deck.pop(0)  # return and remove element with index 0\n"
     ],
     "language": "python",
     "metadata": {},
     "outputs": [],
     "prompt_number": 1
    },
    {
     "cell_type": "markdown",
     "metadata": {},
     "source": [
      "### Example: Drawing cards from a deck; draw a hand of cards\n",
      "\n",
      "**Draw a hand of `n` cards:**"
     ]
    },
    {
     "cell_type": "code",
     "collapsed": false,
     "input": [
      "def deal_hand(n, deck):\n",
      "    hand = [deck[i] for i in range(n)]\n",
      "    del deck[:n]\n",
      "    return hand, deck\n"
     ],
     "language": "python",
     "metadata": {},
     "outputs": [],
     "prompt_number": 1
    },
    {
     "cell_type": "markdown",
     "metadata": {},
     "source": [
      "**Note:**\n",
      "\n",
      " * `deck` is returned since the function changes the list\n",
      "\n",
      " * `deck` is changed in-place so the change affects the `deck` object in the calling code anyway, but returning changed arguments is a Python convention and good habit\n",
      "\n",
      "\n",
      "\n",
      "### Example: Drawing cards from a deck; deal\n",
      "\n",
      "**Deal hands for a set of players:**"
     ]
    },
    {
     "cell_type": "code",
     "collapsed": false,
     "input": [
      "def deal(cards_per_hand, no_of_players):\n",
      "    deck = make_deck()\n",
      "    hands = []\n",
      "    for i in range(no_of_players):\n",
      "        hand, deck = deal_hand(cards_per_hand, deck)\n",
      "        hands.append(hand)\n",
      "    return hands\n",
      "\n",
      "players = deal(5, 4)\n",
      "import pprint; pprint.pprint(players)\n"
     ],
     "language": "python",
     "metadata": {},
     "outputs": [],
     "prompt_number": 1
    },
    {
     "cell_type": "markdown",
     "metadata": {},
     "source": [
      "**Resulting output:**"
     ]
    },
    {
     "cell_type": "code",
     "collapsed": false,
     "input": [
      "[['D4', 'CQ', 'H10', 'DK', 'CK'],\n",
      " ['D7', 'D6', 'SJ', 'S4', 'C5'],\n",
      " ['C3', 'DQ', 'S3', 'C9', 'DJ'],\n",
      " ['H6', 'H9', 'C6', 'D5', 'S6']]\n"
     ],
     "language": "python",
     "metadata": {},
     "outputs": [],
     "prompt_number": 1
    },
    {
     "cell_type": "markdown",
     "metadata": {},
     "source": [
      "### Example: Drawing cards from a deck; analyze results (1)\n",
      "\n",
      "**Analyze the no of pairs or n-of-a-kind in a hand:**"
     ]
    },
    {
     "cell_type": "code",
     "collapsed": false,
     "input": [
      "def same_rank(hand, n_of_a_kind):\n",
      "    ranks = [card[1:] for card in hand]\n",
      "    counter = 0\n",
      "    already_counted = []\n",
      "    for rank in ranks:\n",
      "        if rank not in already_counted and \\\n",
      "               ranks.count(rank) == n_of_a_kind:\n",
      "            counter += 1\n",
      "            already_counted.append(rank)\n",
      "    return counter\n"
     ],
     "language": "python",
     "metadata": {},
     "outputs": [],
     "prompt_number": 1
    },
    {
     "cell_type": "markdown",
     "metadata": {},
     "source": [
      "### Example: Drawing cards from a deck; analyze results (2)\n",
      "\n",
      "**Analyze the no of combinations of the same suit:**"
     ]
    },
    {
     "cell_type": "code",
     "collapsed": false,
     "input": [
      "def same_suit(hand):\n",
      "    suits = [card[0] for card in hand]\n",
      "    counter = {}   # counter[suit] = how many cards of suit\n",
      "    for suit in suits:\n",
      "        # attention only to count > 1:\n",
      "        count = suits.count(suit)\n",
      "        if count > 1:\n",
      "            counter[suit] = count\n",
      "    return counter\n"
     ],
     "language": "python",
     "metadata": {},
     "outputs": [],
     "prompt_number": 1
    },
    {
     "cell_type": "markdown",
     "metadata": {},
     "source": [
      "### Example: Drawing cards from a deck; analyze results (3)\n",
      "\n",
      "Analysis of how many cards we have of the same suit or the same rank, with some nicely formatted printout (see the book):"
     ]
    },
    {
     "cell_type": "code",
     "collapsed": false,
     "input": [
      "The hand D4, CQ, H10, DK, CK\n",
      "    has 1 pairs, 0 3-of-a-kind and\n",
      "    2+2 cards of the same suit.\n",
      "The hand D7, D6, SJ, S4, C5\n",
      "    has 0 pairs, 0 3-of-a-kind and\n",
      "    2+2 cards of the same suit.\n",
      "The hand C3, DQ, S3, C9, DJ\n",
      "    has 1 pairs, 0 3-of-a-kind and\n",
      "    2+2 cards of the same suit.\n",
      "The hand H6, H9, C6, D5, S6\n",
      "    has 0 pairs, 1 3-of-a-kind and\n",
      "    2 cards of the same suit.\n"
     ],
     "language": "python",
     "metadata": {},
     "outputs": [],
     "prompt_number": 1
    },
    {
     "cell_type": "markdown",
     "metadata": {},
     "source": [
      "### Class implementation of a deck; class Deck\n",
      "\n",
      "**Class version.**\n",
      "\n",
      "We can wrap the previous functions in a class:\n",
      "\n",
      " * Attribute: the deck\n",
      "\n",
      " * Methods for shuffling, dealing, putting a card back\n",
      "\n",
      "\n",
      "\n",
      "**Code:**"
     ]
    },
    {
     "cell_type": "code",
     "collapsed": false,
     "input": [
      "\n",
      "class Deck:\n",
      "    def __init__(self, shuffle=True):\n",
      "        ranks = ['A', '2', '3', '4', '5', '6', '7',\n",
      "                 '8', '9', '10', 'J', 'Q', 'K']\n",
      "        suits = ['C', 'D', 'H', 'S']\n",
      "        self.deck = [s+r for s in suits for r in ranks]\n",
      "        random.shuffle(self.deck)\n",
      "\n",
      "    def hand(self, n=1):\n",
      "        \"\"\"Deal n cards. Return hand as list.\"\"\"\n",
      "        hand = [self.deck[i] for i in range(n)]\n",
      "        del self.deck[:n]\n",
      "\n",
      "        # alternative:\n",
      "        # hand = [self.pop(0) for i in range(n)]\n",
      "        return hand\n",
      "\n",
      "    def putback(self, card):\n",
      "        \"\"\"Put back a card under the rest.\"\"\"\n",
      "        self.deck.append(card)\n"
     ],
     "language": "python",
     "metadata": {},
     "outputs": [],
     "prompt_number": 1
    },
    {
     "cell_type": "markdown",
     "metadata": {},
     "source": [
      "### Class implementation of a deck; alternative"
     ]
    },
    {
     "cell_type": "code",
     "collapsed": false,
     "input": [
      "class Card:\n",
      "    def __init__(self, suit, rank):\n",
      "        self.card = suit + str(rank)\n",
      "\n",
      "class Hand:\n",
      "    def __init__(self, list_of_cards):\n",
      "        self.hand = list_of_cards\n",
      "\n",
      "class Deck:\n",
      "    def __init__(self, shuffle=True):\n",
      "        ranks = ['A', '2', '3', '4', '5', '6', '7',\n",
      "                 '8', '9', '10', 'J', 'Q', 'K']\n",
      "        suits = ['C', 'D', 'H', 'S']\n",
      "        self.deck = [Card(s,r) for s in suits for r in ranks]\n",
      "        random.shuffle(self.deck)\n",
      "\n",
      "    def deal(self, n=1):\n",
      "        hand = Hand([self.deck[i] for i in range(n)])\n",
      "        del self.deck[:n]\n",
      "        return hand\n",
      "\n",
      "    def putback(self, card):\n",
      "        self.deck.append(card)\n"
     ],
     "language": "python",
     "metadata": {},
     "outputs": [],
     "prompt_number": 1
    },
    {
     "cell_type": "markdown",
     "metadata": {},
     "source": [
      "### Class implementation of a deck; why?\n",
      "\n",
      "**Warning:**\n",
      "\n",
      "To print a `Deck` instance, `Card` and `Hand` must have `__repr__` methods that return a \"pretty print\" string (see the book), because `print` on list object applies `__repr__` to print each element.\n",
      "\n",
      "\n",
      "\n",
      "**Is the class version better than the function version?**\n",
      "\n",
      "Yes! The function version has functions updating a global variable `deck`, as in"
     ]
    },
    {
     "cell_type": "code",
     "collapsed": false,
     "input": [
      "hand, deck = deal_hand(5, deck)\n"
     ],
     "language": "python",
     "metadata": {},
     "outputs": [],
     "prompt_number": 1
    },
    {
     "cell_type": "markdown",
     "metadata": {},
     "source": [
      "This is often considered bad programming. In the class version we avoid a global variable - the deck is stored and updated inside the class. Errors are less likely to sneak in in the class version.\n",
      "\n",
      "\n",
      "\n",
      "### Probabilities can be computed by Monte Carlo simulation\n",
      "\n",
      "**What is the probability that a certain event $A$ happens?**\n",
      "\n",
      "Simulate $N$ events and count how many times $M$ the event $A$ happens. The probability of the event $A$ is then $M/N$ (as $N\\rightarrow\\infty$).\n",
      "\n",
      "\n",
      "\n",
      "**Example:**\n",
      "\n",
      "You throw two dice, one black and one green.\n",
      "What is the probability that the number of eyes on the black is\n",
      "larger than that on the green?"
     ]
    },
    {
     "cell_type": "code",
     "collapsed": false,
     "input": [
      "import random\n",
      "import sys\n",
      "N = int(sys.argv[1])      # no of experiments\n",
      "M = 0                     # no of successful events\n",
      "for i in range(N):\n",
      "    black = random.randint(1, 6)   # throw black\n",
      "    green = random.randint(1, 6)   # throw green\n",
      "    if black > green:              # success?\n",
      "        M += 1\n",
      "p = float(M)/N\n",
      "print 'probability:', p\n"
     ],
     "language": "python",
     "metadata": {},
     "outputs": [],
     "prompt_number": 1
    },
    {
     "cell_type": "markdown",
     "metadata": {},
     "source": [
      "### A vectorized version can speed up the simulations"
     ]
    },
    {
     "cell_type": "code",
     "collapsed": false,
     "input": [
      "\n",
      "import sys\n",
      "N = int(sys.argv[1])      # no of experiments\n",
      "\n",
      "import numpy as np\n",
      "r = np.random.random_integers(1, 6, (2, N))\n",
      "\n",
      "black = r[0,:]            # eyes for all throws with black\n",
      "green = r[1,:]            # eyes for all throws with green\n",
      "success = black > green   # success[i]==True if black[i]>green[i]\n",
      "M = np.sum(success)       # sum up all successes\n",
      "\n",
      "p = float(M)/N\n",
      "print 'probability:', p\n"
     ],
     "language": "python",
     "metadata": {},
     "outputs": [],
     "prompt_number": 1
    },
    {
     "cell_type": "markdown",
     "metadata": {},
     "source": [
      "Run 10+ times faster than scalar code\n",
      "\n",
      "\n",
      "\n",
      "### The exact probability can be calculated in this (simple) example\n",
      "\n",
      "All possible combinations of two dice:"
     ]
    },
    {
     "cell_type": "code",
     "collapsed": false,
     "input": [
      "combinations = [(black, green)\n",
      "                for black in range(1, 7)\n",
      "                for green in range(1, 7)]\n"
     ],
     "language": "python",
     "metadata": {},
     "outputs": [],
     "prompt_number": 1
    },
    {
     "cell_type": "markdown",
     "metadata": {},
     "source": [
      "How many of the `(black, green)` pairs that have\n",
      "the property `black > green`?"
     ]
    },
    {
     "cell_type": "code",
     "collapsed": false,
     "input": [
      "success = [black > green for black, green in combinations]\n",
      "M = sum(success)\n",
      "print 'probability:', float(M)/len(combinations)\n"
     ],
     "language": "python",
     "metadata": {},
     "outputs": [],
     "prompt_number": 1
    },
    {
     "cell_type": "markdown",
     "metadata": {},
     "source": [
      "### How accurate and fast is Monte Carlo simulation?\n",
      "\n",
      "**Programs:**\n",
      "\n",
      " * `black_gt_green.py`: scalar version\n",
      "\n",
      " * `black_gt_green_vec.py`: vectorized version\n",
      "\n",
      " * `black_gt_green_exact.py`: exact version"
     ]
    },
    {
     "cell_type": "markdown",
     "metadata": {},
     "source": [
      "        Terminal> python black_gt_green_exact.py\n",
      "        probability: 0.416666666667\n",
      "        \n",
      "        Terminal> time python black_gt_green.py 10000\n",
      "        probability: 0.4158\n",
      "        \n",
      "        Terminal> time python black_gt_green.py 1000000\n",
      "        probability: 0.416516\n",
      "        real\t0m1.725s\n",
      "        \n",
      "        Terminal> time python black_gt_green.py 10000000\n",
      "        probability: 0.4164688\n",
      "        real\t0m17.649s\n",
      "        \n",
      "        Terminal> time python black_gt_green_vec.py 10000000\n",
      "        probability: 0.4170253\n",
      "        real\t0m0.816s\n"
     ]
    },
    {
     "cell_type": "markdown",
     "metadata": {},
     "source": [
      "### Gamification of this example\n",
      "\n",
      "**Suggested game:**\n",
      "\n",
      "Suppose a games is constructed such that you have to pay 1 euro to\n",
      "throw the two dice. You win 2 euros if there are more eyes on the\n",
      "black than on the green die. Should you play this game?\n",
      "\n",
      "\n",
      "\n",
      "**Code:**"
     ]
    },
    {
     "cell_type": "code",
     "collapsed": false,
     "input": [
      "import sys\n",
      "N = int(sys.argv[1])               # no of experiments\n",
      "\n",
      "import random\n",
      "start_capital = 10\n",
      "money = start_capital\n",
      "for i in range(N):\n",
      "    money -= 1                     # pay for the game\n",
      "    black = random.randint(1, 6)   # throw black\n",
      "    green = random.randint(1, 6)   # throw brown\n",
      "    if black > green:              # success?\n",
      "        money += 2                 # get award\n",
      "\n",
      "net_profit_total = money - start_capital\n",
      "net_profit_per_game = net_profit_total/float(N)\n",
      "print 'Net profit per game in the long run:', net_profit_per_game\n"
     ],
     "language": "python",
     "metadata": {},
     "outputs": [],
     "prompt_number": 1
    },
    {
     "cell_type": "markdown",
     "metadata": {},
     "source": [
      "### Should we play the game?"
     ]
    },
    {
     "cell_type": "markdown",
     "metadata": {},
     "source": [
      "        Terminaldd> python black_gt_green_game.py 1000000\n",
      "        Net profit per game in the long run: -0.167804\n"
     ]
    },
    {
     "cell_type": "markdown",
     "metadata": {},
     "source": [
      "No!\n",
      "\n",
      "\n",
      "\n",
      "### Vectorization of the game for speeding up the code"
     ]
    },
    {
     "cell_type": "code",
     "collapsed": false,
     "input": [
      "import sys\n",
      "N = int(sys.argv[1])      # no of experiments\n",
      "\n",
      "import numpy as np\n",
      "r = np.random.random_integers(1, 6, size=(2, N))\n",
      "\n",
      "money = 10 - N            # capital after N throws\n",
      "black = r[0,:]            # eyes for all throws with black\n",
      "green = r[1,:]            # eyes for all throws with green\n",
      "success = black > green   # success[i] is true if black[i]>green[i]\n",
      "M = np.sum(success)       # sum up all successes\n",
      "money += 2*M              # add all awards for winning\n",
      "print 'Net profit per game in the long run:', (money-10)/float(N)\n"
     ],
     "language": "python",
     "metadata": {},
     "outputs": [],
     "prompt_number": 1
    },
    {
     "cell_type": "markdown",
     "metadata": {},
     "source": [
      "### Example: Drawing balls from a hat\n",
      "\n",
      "We have 12 balls in a hat: four black, four red, and four blue"
     ]
    },
    {
     "cell_type": "code",
     "collapsed": false,
     "input": [
      "hat = []\n",
      "for color in 'black', 'red', 'blue':\n",
      "    for i in range(4):\n",
      "        hat.append(color)\n"
     ],
     "language": "python",
     "metadata": {},
     "outputs": [],
     "prompt_number": 1
    },
    {
     "cell_type": "markdown",
     "metadata": {},
     "source": [
      "Choose two balls at random:"
     ]
    },
    {
     "cell_type": "code",
     "collapsed": false,
     "input": [
      "import random\n",
      "index = random.randint(0, len(hat)-1)  # random index\n",
      "ball1 = hat[index];  del hat[index]\n",
      "index = random.randint(0, len(hat)-1)  # random index\n",
      "ball2 = hat[index];  del hat[index]\n",
      "\n",
      "# or:\n",
      "random.shuffle(hat)   # random sequence of balls\n",
      "ball1 = hat.pop(0)\n",
      "ball2 = hat.pop(0)\n"
     ],
     "language": "python",
     "metadata": {},
     "outputs": [],
     "prompt_number": 1
    },
    {
     "cell_type": "markdown",
     "metadata": {},
     "source": [
      "### What is the probability of getting two black balls or more?"
     ]
    },
    {
     "cell_type": "code",
     "collapsed": false,
     "input": [
      "def new_hat():  # make a new hat with 12 balls\n",
      "    return [color for color in 'black', 'red', 'blue'\n",
      "            for i in range(4)]\n",
      "\n",
      "def draw_ball(hat):\n",
      "    index = random.randint(0, len(hat)-1)\n",
      "    color = hat[index];  del hat[index]\n",
      "    return color, hat  # (return hat since it is modified)\n",
      "\n",
      "# run experiments:\n",
      "n = input('How many balls are to be drawn? ')\n",
      "N = input('How many experiments? ')\n",
      "M = 0  # no of successes\n",
      "\n",
      "for e in range(N):\n",
      "    hat = new_hat()\n",
      "    balls = []         # the n balls we draw\n",
      "    for i in range(n):\n",
      "        color, hat = draw_ball(hat)\n",
      "        balls.append(color)\n",
      "    if balls.count('black') >= 2:  # two black balls or more?\n",
      "        M += 1\n",
      "print 'Probability:', float(M)/N\n"
     ],
     "language": "python",
     "metadata": {},
     "outputs": [],
     "prompt_number": 1
    },
    {
     "cell_type": "markdown",
     "metadata": {},
     "source": [
      "### Examples on computing the probabilities"
     ]
    },
    {
     "cell_type": "markdown",
     "metadata": {},
     "source": [
      "        Terminal> python balls_in_hat.py\n",
      "        How many balls are to be drawn? 2\n",
      "        How many experiments? 10000\n",
      "        Probability: 0.0914\n",
      "        \n",
      "        Terminal> python balls_in_hat.py\n",
      "        How many balls are to be drawn? 8\n",
      "        How many experiments? 10000\n",
      "        Probability: 0.9346\n",
      "        \n",
      "        Terminal> python balls_in_hat.py\n",
      "        How many balls are to be drawn? 4\n",
      "        How many experiments? 10000\n",
      "        Probability: 0.4033\n"
     ]
    },
    {
     "cell_type": "markdown",
     "metadata": {},
     "source": [
      "### Guess a number game\n",
      "\n",
      "**Game:**\n",
      "\n",
      "Let the computer pick a number at random. You guess at the number, and the computer tells if the number is too high or too low.\n",
      "\n",
      "\n",
      "\n",
      "**Program:**"
     ]
    },
    {
     "cell_type": "code",
     "collapsed": false,
     "input": [
      "import random\n",
      "number = random.randint(1, 100)   # the computer's secret number\n",
      "attempts = 0   # no of attempts to guess the number\n",
      "guess = 0      # user's guess at the number\n",
      "while guess != number:\n",
      "    guess = input('Guess a number: ')\n",
      "    attempts += 1\n",
      "    if guess == number:\n",
      "        print 'Correct! You used', attempts, 'attempts!'\n",
      "        break\n",
      "    elif guess < number:  print 'Go higher!'\n",
      "    else:                 print 'Go lower!'\n"
     ],
     "language": "python",
     "metadata": {},
     "outputs": [],
     "prompt_number": 1
    },
    {
     "cell_type": "markdown",
     "metadata": {},
     "source": [
      "## Monte Carlo integration"
     ]
    },
    {
     "cell_type": "markdown",
     "metadata": {},
     "source": [
      "$$\n",
      "% if FORMAT in ('pdflatex', 'latex'):\n",
      " {\\Large \\int_a^b f(x)dx } \n",
      "% else:\n",
      " \\int_a^b f(x)dx \n",
      "% endif\n",
      "$$"
     ]
    },
    {
     "cell_type": "markdown",
     "metadata": {},
     "source": [
      "<!-- FIGURE: [fig-random/associations/random_numbers1, width=400] -->\n",
      "\n",
      "<p></p>\n",
      "<img src=\"fig-random/associations/Monte_Carlo.jpg\" width=400>\n",
      "\n",
      "\n",
      "\n",
      "### There is a strong link between an integral and the average of the integrand\n",
      "\n",
      "Recall a famous theorem from calculus: Let $f_m$ be the mean value of $f(x)$ on $[a,b]$. Then"
     ]
    },
    {
     "cell_type": "markdown",
     "metadata": {},
     "source": [
      "$$\n",
      "\\int_a^b f(x)dx = f_m(b-a)\n",
      "$$"
     ]
    },
    {
     "cell_type": "markdown",
     "metadata": {},
     "source": [
      "Idea: compute $f_m$ by averaging $N$ function values.\n",
      "To choose the $N$ coordinates $x_0,\\ldots,x_{N-1}$ we use random numbers in $[a,b]$. Then"
     ]
    },
    {
     "cell_type": "markdown",
     "metadata": {},
     "source": [
      "$$\n",
      "f_m = N^{-1}\\sum_{j=0}^{N-1} f(x_j)\n",
      "$$"
     ]
    },
    {
     "cell_type": "markdown",
     "metadata": {},
     "source": [
      "This is called Monte Carlo integration.\n",
      "\n",
      "\n",
      "\n",
      "### Implementation of Monte Carlo integration; scalar version"
     ]
    },
    {
     "cell_type": "code",
     "collapsed": false,
     "input": [
      "def MCint(f, a, b, n):\n",
      "    s = 0\n",
      "    for i in range(n):\n",
      "        x = random.uniform(a, b)\n",
      "        s += f(x)\n",
      "    I = (float(b-a)/n)*s\n",
      "    return I\n"
     ],
     "language": "python",
     "metadata": {},
     "outputs": [],
     "prompt_number": 1
    },
    {
     "cell_type": "markdown",
     "metadata": {},
     "source": [
      "### Implementation of Monte Carlo integration; vectorized version"
     ]
    },
    {
     "cell_type": "code",
     "collapsed": false,
     "input": [
      "def MCint_vec(f, a, b, n):\n",
      "    x = np.random.uniform(a, b, n)\n",
      "    s = np.sum(f(x))\n",
      "    I = (float(b-a)/n)*s\n",
      "    return I\n"
     ],
     "language": "python",
     "metadata": {},
     "outputs": [],
     "prompt_number": 1
    },
    {
     "cell_type": "markdown",
     "metadata": {},
     "source": [
      "**Remark:**\n",
      "\n",
      "Monte Carlo integration is slow for $\\int f(x)dx$ (slower than the Trapezoidal rule, e.g.), but very efficient for integrating functions of many variables $\\int f(x_1,x_2,\\ldots,x_n)dx_1dx_2\\cdots dx_n$\n",
      "\n",
      "\n",
      "\n",
      "### Dart-inspired Monte Carlo integration\n",
      "\n",
      "\n",
      "<p></p>\n",
      "<img src=\"fig-random/MC_dart.png\" width=300>\n",
      "\n",
      "\n",
      "\n",
      "  * Choose a box $B=[x_L,x_H]\\times[y_L,y_H]$ with some geometric object $G$ inside, what is the area of $G$?\n",
      "\n",
      "  * Method: draw $N$ points at random inside $B$, count how many, $M$, that fall within $G$, $G$'s area is then $M/N\\times\\hbox{area}(B)$\n",
      "\n",
      "  * Special case: $G$ is the geometry between $y=f(x)$ and the $x$ axis for $x\\in [a,b]$, i.e., the area of $G$ is $\\int_a^bf(x)dx$, and our method gives $\\int_a^bf(x)dx \\approx {M\\over N}m(b-a)$ if $B$ is the box $[a,b]\\times [0,m]$\n",
      "\n",
      "\n",
      "\n",
      "\n",
      "### The code for the dart-inspired Monte Carlo integration\n",
      "\n",
      "**Scalar code:**"
     ]
    },
    {
     "cell_type": "code",
     "collapsed": false,
     "input": [
      "def MCint_area(f, a, b, n, fmax):\n",
      "    below = 0  # counter for no of points below the curve\n",
      "    for i in range(n):\n",
      "        x = random.uniform(a, b)\n",
      "        y = random.uniform(0, fmax)\n",
      "        if y <= f(x):\n",
      "            below += 1\n",
      "    area = below/float(n)*(b-a)*fmax\n",
      "    return area\n"
     ],
     "language": "python",
     "metadata": {},
     "outputs": [],
     "prompt_number": 1
    },
    {
     "cell_type": "markdown",
     "metadata": {},
     "source": [
      "**Vectorized code:**"
     ]
    },
    {
     "cell_type": "code",
     "collapsed": false,
     "input": [
      "from numpy import *\n",
      "\n",
      "def MCint_area_vec(f, a, b, n, fmax):\n",
      "    x = np.random.uniform(a, b, n)\n",
      "    y = np.random.uniform(0, fmax, n)\n",
      "    below = y[y < f(x)].size\n",
      "    area = below/float(n)*(b-a)*fmax\n",
      "    return area\n"
     ],
     "language": "python",
     "metadata": {},
     "outputs": [],
     "prompt_number": 1
    },
    {
     "cell_type": "markdown",
     "metadata": {},
     "source": [
      "### The development of the error in Monte Carlo integration\n",
      "\n",
      "\n",
      "<p></p>\n",
      "<img src=\"fig-random/MCint_1000000.png\" width=600>\n",
      "\n",
      "\n",
      "\n",
      "## Random walk\n",
      "\n",
      "\n",
      "<p></p>\n",
      "<img src=\"fig-random/associations/random_walk1.jpg\" width=400>\n",
      "\n",
      "\n",
      "\n",
      "\n",
      "<p></p>\n",
      "<img src=\"fig-random/associations/random_walker1.gif\" width=200>\n",
      "\n",
      "\n",
      "\n",
      "### Random walk in one space dimension\n",
      "\n",
      "**Basics of random walk in 1D:**\n",
      "\n",
      "  * One particle moves to the left and right with equal probability\n",
      "\n",
      "  * $n$ particles start at $x=0$ at time $t=0$ - how do the particles get distributed over time?\n",
      "\n",
      "\n",
      "\n",
      "**Applications:**\n",
      "\n",
      " * molecular motion\n",
      "\n",
      " * heat transport\n",
      "\n",
      " * quantum mechanics\n",
      "\n",
      " * polymer chains\n",
      "\n",
      " * population genetics\n",
      "\n",
      " * brain research\n",
      "\n",
      " * hazard games\n",
      "\n",
      " * pricing of financial instruments\n",
      "\n",
      "\n",
      "\n",
      "### Program for 1D random walk"
     ]
    },
    {
     "cell_type": "code",
     "collapsed": false,
     "input": [
      "from scitools.std import plot\n",
      "import random\n",
      "\n",
      "np = 4                 # no of particles\n",
      "ns = 100               # no of steps\n",
      "positions = zeros(np)  # all particles start at x=0\n",
      "HEAD = 1;  TAIL = 2    # constants\n",
      "xmax = sqrt(ns); xmin = -xmax   # extent of plot axis\n",
      "\n",
      "for step in range(ns):\n",
      "    for p in range(np):\n",
      "        coin = random_.randint(1,2)  # flip coin\n",
      "        if coin == HEAD:\n",
      "            positions[p] += 1   # step to the right\n",
      "        elif coin == TAIL:\n",
      "            positions[p] -= 1   # step to the left\n",
      "    plot(positions, y, 'ko3',\n",
      "         axis=[xmin, xmax, -0.2, 0.2])\n",
      "    time.sleep(0.2)             # pause between moves\n"
     ],
     "language": "python",
     "metadata": {},
     "outputs": [],
     "prompt_number": 1
    },
    {
     "cell_type": "markdown",
     "metadata": {},
     "source": [
      "### Random walk as a difference equation\n",
      "\n",
      "Let $x_n$ be the position of one particle at time $n$.\n",
      "Updating rule:"
     ]
    },
    {
     "cell_type": "markdown",
     "metadata": {},
     "source": [
      "$$\n",
      "x_n = x_{n-1} + s\n",
      "$$"
     ]
    },
    {
     "cell_type": "markdown",
     "metadata": {},
     "source": [
      "where $s=1$ or $s=-1$, both with probability 1/2.\n",
      "\n",
      "\n",
      "\n",
      "### Computing statistics of the random walk\n",
      "\n",
      "Scientists are not interested in just looking at movies of random walks - they are interested in statistics (mean position, \"width\" of the cluster of particles, how particles are distributed)"
     ]
    },
    {
     "cell_type": "code",
     "collapsed": false,
     "input": [
      "mean_pos  = mean(positions)\n",
      "stdev_pos = std(positions)   # \"width\" of particle cluster\n",
      "\n",
      "# shape of particle cluster:\n",
      "from scitools.std import compute_histogram\n",
      "pos, freq = compute_histogram(positions, nbins=int(xmax),\n",
      "                              piecewise_constant=True)\n",
      "plot(pos, freq, 'b-')\n"
     ],
     "language": "python",
     "metadata": {},
     "outputs": [],
     "prompt_number": 1
    },
    {
     "cell_type": "markdown",
     "metadata": {},
     "source": [
      "<p></p>\n",
      "<img src=\"fig-random/randomwalk1D_hist.png\" width=500>\n",
      "\n",
      "\n",
      "\n",
      "### Vectorized implementation of 1D random walk\n",
      "\n",
      "First we draw all moves at all times:"
     ]
    },
    {
     "cell_type": "code",
     "collapsed": false,
     "input": [
      "moves = numpy.random.random_integers(1, 2, size=np*ns)\n",
      "moves = 2*moves - 3  #  -1, 1 instead of 1, 2\n",
      "moves.shape = (ns, np)\n"
     ],
     "language": "python",
     "metadata": {},
     "outputs": [],
     "prompt_number": 1
    },
    {
     "cell_type": "markdown",
     "metadata": {},
     "source": [
      "Evolution through time:"
     ]
    },
    {
     "cell_type": "code",
     "collapsed": false,
     "input": [
      "positions = numpy.zeros(np)\n",
      "for step in range(ns):\n",
      "    positions += moves[step, :]\n",
      "\n",
      "    # can do some statistics:\n",
      "    print numpy.mean(positions), numpy.std(positions)\n"
     ],
     "language": "python",
     "metadata": {},
     "outputs": [],
     "prompt_number": 1
    },
    {
     "cell_type": "markdown",
     "metadata": {},
     "source": [
      "### Now to more exciting stuff: 2D random walk\n",
      "\n",
      "Let each particle move north, south, west, or east - each with probability 1/4"
     ]
    },
    {
     "cell_type": "code",
     "collapsed": false,
     "input": [
      "def random_walk_2D(np, ns, plot_step):\n",
      "    xpositions = numpy.zeros(np)\n",
      "    ypositions = numpy.zeros(np)\n",
      "    NORTH = 1;  SOUTH = 2;  WEST = 3;  EAST = 4\n",
      "\n",
      "    for step in range(ns):\n",
      "        for i in range(len(xpositions)):\n",
      "            direction = random.randint(1, 4)\n",
      "            if direction == NORTH:\n",
      "                ypositions[i] += 1\n",
      "            elif direction == SOUTH:\n",
      "                ypositions[i] -= 1\n",
      "            elif direction == EAST:\n",
      "                xpositions[i] += 1\n",
      "            elif direction == WEST:\n",
      "                xpositions[i] -= 1\n",
      "    return xpositions, ypositions\n"
     ],
     "language": "python",
     "metadata": {},
     "outputs": [],
     "prompt_number": 1
    },
    {
     "cell_type": "markdown",
     "metadata": {},
     "source": [
      "### Vectorized implementation of 2D random walk"
     ]
    },
    {
     "cell_type": "code",
     "collapsed": false,
     "input": [
      "def random_walk_2D(np, ns, plot_step):\n",
      "    xpositions = zeros(np)\n",
      "    ypositions = zeros(np)\n",
      "    moves = numpy.random.random_integers(1, 4, size=ns*np)\n",
      "    moves.shape = (ns, np)\n",
      "    NORTH = 1;  SOUTH = 2;  WEST = 3;  EAST = 4\n",
      "\n",
      "    for step in range(ns):\n",
      "        this_move = moves[step,:]\n",
      "        ypositions += where(this_move == NORTH, 1, 0)\n",
      "        ypositions -= where(this_move == SOUTH, 1, 0)\n",
      "        xpositions += where(this_move == EAST,  1, 0)\n",
      "        xpositions -= where(this_move == WEST,  1, 0)\n",
      "    return xpositions, ypositions\n"
     ],
     "language": "python",
     "metadata": {},
     "outputs": [],
     "prompt_number": 1
    },
    {
     "cell_type": "markdown",
     "metadata": {},
     "source": [
      "### Visualization of 2D random walk\n",
      "\n",
      "  * We plot every `plot_step` step\n",
      "\n",
      "  * One plot on the screen + one hardcopy for movie file\n",
      "\n",
      "  * Extent of axis: it can be shown that after $n_s$ steps, the typical width of the cluster of particles (standard deviation) is of order $\\sqrt{n_s}$, so we can set min/max axis extent as, e.g.,"
     ]
    },
    {
     "cell_type": "code",
     "collapsed": false,
     "input": [
      "xymax = 3*sqrt(ns); xymin = -xymax\n"
     ],
     "language": "python",
     "metadata": {},
     "outputs": [],
     "prompt_number": 1
    },
    {
     "cell_type": "markdown",
     "metadata": {},
     "source": [
      "Inside `for` loop over steps:"
     ]
    },
    {
     "cell_type": "code",
     "collapsed": false,
     "input": [
      "# just plot every plot_step steps:\n",
      "if (step+1) % plot_step == 0:\n",
      "    plot(xpositions, ypositions, 'ko',\n",
      "         axis=[xymin, xymax, xymin, xymax],\n",
      "         title='%d particles after %d steps' % \\\n",
      "               (np, step+1),\n",
      "         savefig='tmp_%03d.png' % (step+1))\n"
     ],
     "language": "python",
     "metadata": {},
     "outputs": [],
     "prompt_number": 1
    },
    {
     "cell_type": "markdown",
     "metadata": {},
     "source": [
      "### Class implementation of 2D random walk\n",
      "\n",
      "  * Can classes be used to implement a random walk?\n",
      "\n",
      "  * Yes, it sounds natural with class `Particle`, holding the position of a particle as attributes and with a method `move` for moving the particle one step\n",
      "\n",
      "  * Class `Particles` holds a list of `Particle` instances and has a method `move` for moving all particles one step and a method `moves` for moving all particles through all steps\n",
      "\n",
      "  * Additional methods in class `Particles` can plot and compute statistics\n",
      "\n",
      "  * Downside: with class `Particle` the code is scalar - a vectorized version `must` use arrays inside class `Particles` instead of a list of `Particle` instances\n",
      "\n",
      "  * The implementation is an exercise\n",
      "\n",
      "\n",
      "\n",
      "### Summary of drawing random numbers (scalar code)\n",
      "\n",
      "Draw a uniformly distributed random number in $[0,1)$:"
     ]
    },
    {
     "cell_type": "code",
     "collapsed": false,
     "input": [
      "import random\n",
      "r = random.random()\n"
     ],
     "language": "python",
     "metadata": {},
     "outputs": [],
     "prompt_number": 1
    },
    {
     "cell_type": "markdown",
     "metadata": {},
     "source": [
      "Draw a uniformly distributed random number in $[a,b)$:"
     ]
    },
    {
     "cell_type": "code",
     "collapsed": false,
     "input": [
      "r = random.uniform(a, b)\n"
     ],
     "language": "python",
     "metadata": {},
     "outputs": [],
     "prompt_number": 1
    },
    {
     "cell_type": "markdown",
     "metadata": {},
     "source": [
      "Draw a uniformly distributed random integer in $[a,b]$:"
     ]
    },
    {
     "cell_type": "code",
     "collapsed": false,
     "input": [
      "i = random.randint(a, b)\n"
     ],
     "language": "python",
     "metadata": {},
     "outputs": [],
     "prompt_number": 1
    },
    {
     "cell_type": "markdown",
     "metadata": {},
     "source": [
      "### Summary of drawing random numbers (vectorized code)\n",
      "\n",
      "Draw $n$ uniformly distributed random numbers in $[0,1)$:"
     ]
    },
    {
     "cell_type": "code",
     "collapsed": false,
     "input": [
      "import numpy as np\n",
      "r = np.random.random(n)\n"
     ],
     "language": "python",
     "metadata": {},
     "outputs": [],
     "prompt_number": 1
    },
    {
     "cell_type": "markdown",
     "metadata": {},
     "source": [
      "Draw $n$ uniformly distributed random numbers in $[a,b)$:"
     ]
    },
    {
     "cell_type": "code",
     "collapsed": false,
     "input": [
      "r = np.random.uniform(a, b, n)\n"
     ],
     "language": "python",
     "metadata": {},
     "outputs": [],
     "prompt_number": 1
    },
    {
     "cell_type": "markdown",
     "metadata": {},
     "source": [
      "Draw $n$ uniformly distributed random integers in $[a,b]$:"
     ]
    },
    {
     "cell_type": "code",
     "collapsed": false,
     "input": [
      "i = np.random.randint(a, b+1, n)\n",
      "i = np.random.random_integers(a, b, n)\n"
     ],
     "language": "python",
     "metadata": {},
     "outputs": [],
     "prompt_number": 1
    },
    {
     "cell_type": "markdown",
     "metadata": {},
     "source": [
      "### Summary of probability computations\n",
      "\n",
      "  * Probability: perform $N$ experiments, count $M$ successes, then success has probability $M/N$ ($N$ must be large)\n",
      "\n",
      "  * Monte Carlo simulation: let a program do $N$ experiments and count $M$ (simple method for probability problems)\n",
      "\n",
      "\n",
      "\n",
      "### Example: investment with random interest rate\n",
      "\n",
      "Recall difference equation for the development of an investment $x_0$ with annual interest rate $p$:"
     ]
    },
    {
     "cell_type": "markdown",
     "metadata": {},
     "source": [
      "$$\n",
      "x_{n} = x_{n-1} + {p\\over 100}x_{n-1},\\quad \\hbox{given }x_0\n",
      "$$"
     ]
    },
    {
     "cell_type": "markdown",
     "metadata": {},
     "source": [
      "But:\n",
      "\n",
      "  * In reality, $p$ is uncertain in the future\n",
      "\n",
      "  * Let us model this uncertainty by letting $p$ be random\n",
      "\n",
      "Assume the interest is added every month:"
     ]
    },
    {
     "cell_type": "markdown",
     "metadata": {},
     "source": [
      "$$\n",
      "x_{n} = x_{n-1} + {p\\over 100\\cdot 12}x_{n-1}\n",
      "$$"
     ]
    },
    {
     "cell_type": "markdown",
     "metadata": {},
     "source": [
      "where $n$ counts months\n",
      "\n",
      "\n",
      "\n",
      "### The model for changing the interest rate\n",
      "\n",
      "$p$ changes from one month to the next by $\\gamma$:"
     ]
    },
    {
     "cell_type": "markdown",
     "metadata": {},
     "source": [
      "$$\n",
      "p_n = p_{n-1} + \\gamma\n",
      "$$"
     ]
    },
    {
     "cell_type": "markdown",
     "metadata": {},
     "source": [
      "where $\\gamma$ is random\n",
      "\n",
      "  * With probability $1/M$, $\\gamma \\neq 0$ \n",
      "    (i.e., the annual interest rate changes on average every $M$ months)\n",
      "\n",
      "  * If $\\gamma\\neq 0$, $\\gamma =\\pm m$, each with probability $1/2$\n",
      "\n",
      "  * It does not make sense to have $p_n < 1$ or $p_n > 15$\n",
      "\n",
      "\n",
      "\n",
      "### The complete mathematical model"
     ]
    },
    {
     "cell_type": "markdown",
     "metadata": {},
     "source": [
      "$$\n",
      "\\begin{align*}\n",
      "x_n &= x_{n-1} + {p_{n-1}\\over 12\\cdot 100}x_{n-1},\\quad i=1,\\ldots,N\\\\\n",
      "r_1 &= \\hbox{random number in } 1,\\ldots,M\\\\\n",
      "r_2 &= \\hbox{random number in } 1, 2\\\\\n",
      "\\gamma &= \\left\\lbrace\\begin{array}{ll} m, & \\hbox{if } r_1 = 1 \\hbox{ and } r_2=1,\\\\\n",
      "-m, & \\hbox{if } r_1 = 1 \\hbox{ and } r_2=2,\\\\\n",
      "0, & \\hbox{if } r_1 \\neq 1\n",
      "\\end{array}\\right.\\\\\n",
      "p_n &= p_{n-1} + \\left\\lbrace\\begin{array}{ll} \\gamma, & \\hbox{if } p_n+\\gamma\\in [1,15],\\\\\n",
      "0, & \\hbox{otherwise}\n",
      "\\end{array}\\right.\n",
      "\\end{align*}\n",
      "$$"
     ]
    },
    {
     "cell_type": "markdown",
     "metadata": {},
     "source": [
      "A particular realization $x_n, p_n$, $n=0,1,\\ldots,N$, is called a *path* (through time) or a realization. We are interested in the statistics of many paths.\n",
      "\n",
      "\n",
      "\n",
      "### Note: this is almost a random walk for the interest rate\n",
      "\n",
      "**Remark:**\n",
      "\n",
      "The development of $p$ is like a random walk, but the \"particle\" moves at each time level with probability $1/M$ (not 1 - always - as in a normal random walk).\n",
      "\n",
      "\n",
      "\n",
      "### Simulating the investment development; one path"
     ]
    },
    {
     "cell_type": "code",
     "collapsed": false,
     "input": [
      "def simulate_one_path(N, x0, p0, M, m):\n",
      "    x = zeros(N+1)\n",
      "    p = zeros(N+1)\n",
      "    index_set = range(0, N+1)\n",
      "\n",
      "    x[0] = x0\n",
      "    p[0] = p0\n",
      "\n",
      "    for n in index_set[1:]:\n",
      "        x[n] = x[n-1] + p[n-1]/(100.0*12)*x[n-1]\n",
      "\n",
      "        # update interest rate p:\n",
      "        r = random.randint(1, M)\n",
      "        if r == 1:\n",
      "            # adjust gamma:\n",
      "            r = random.randint(1, 2)\n",
      "            gamma = m if r == 1 else -m\n",
      "        else:\n",
      "            gamma = 0\n",
      "        pn = p[n-1] + gamma\n",
      "        p[n] = pn if 1 <= pn <= 15 else p[n-1]\n",
      "    return x, p\n"
     ],
     "language": "python",
     "metadata": {},
     "outputs": [],
     "prompt_number": 1
    },
    {
     "cell_type": "markdown",
     "metadata": {},
     "source": [
      "### Simulating the investment development; $N$ paths\n",
      "\n",
      "Compute $N$ paths (investment developments $x_n$) and their mean path (mean development)"
     ]
    },
    {
     "cell_type": "code",
     "collapsed": false,
     "input": [
      "def simulate_n_paths(n, N, L, p0, M, m):\n",
      "    xm = zeros(N+1)\n",
      "    pm = zeros(N+1)\n",
      "    for i in range(n):\n",
      "        x, p = simulate_one_path(N, L, p0, M, m)\n",
      "        # accumulate paths:\n",
      "        xm += x\n",
      "        pm += p\n",
      "    # compute average:\n",
      "    xm /= float(n)\n",
      "    pm /= float(n)\n",
      "    return xm, pm\n"
     ],
     "language": "python",
     "metadata": {},
     "outputs": [],
     "prompt_number": 1
    },
    {
     "cell_type": "markdown",
     "metadata": {},
     "source": [
      "Can also compute the standard deviation path (\"width\" of the $N$ paths), see the book for details\n",
      "\n",
      "\n",
      "\n",
      "### Input and graphics\n",
      "\n",
      "Here is a list of variables that constitute the input:"
     ]
    },
    {
     "cell_type": "code",
     "collapsed": false,
     "input": [
      "x0 = 1        # initial investment\n",
      "p0 = 5        # initial interest rate\n",
      "N = 10*12     # number of months\n",
      "M = 3         # p changes (on average) every M months\n",
      "n = 1000      # number of simulations\n",
      "m = 0.5       # adjustment of p\n"
     ],
     "language": "python",
     "metadata": {},
     "outputs": [],
     "prompt_number": 1
    },
    {
     "cell_type": "markdown",
     "metadata": {},
     "source": [
      "We may add some graphics in the program:\n",
      "\n",
      "    * plot some realizations of $x_n$ and $p_n$\n",
      "\n",
      "    * plot the mean $x_n$ with plus/minus one standard deviation\n",
      "\n",
      "    * plot the mean $p_n$ with plus/minus one standard deviation\n",
      "\n",
      "See the book for graphics details (good example on updating several different plots simultaneously in a simulation)\n",
      "\n",
      "\n",
      "\n",
      "### Some realizations of the investment\n",
      "\n",
      "\n",
      "<p></p>\n",
      "<img src=\"fig-random/growth_random_x.png\" width=600>\n",
      "\n",
      "\n",
      "\n",
      "### Some realizations of the interest rate\n",
      "\n",
      "\n",
      "<p></p>\n",
      "<img src=\"fig-random/growth_random_p.png\" width=600>\n",
      "\n",
      "\n",
      "\n",
      "### The mean and uncertainty of the investment over time\n",
      "\n",
      "\n",
      "<p></p>\n",
      "<img src=\"fig-random/growth_random_xm.png\" width=600>\n",
      "\n",
      "\n",
      "\n",
      "### The mean and uncertainty of the interest rate over time\n",
      "\n",
      "\n",
      "<p></p>\n",
      "<img src=\"fig-random/growth_random_pm.png\" width=600>"
     ]
    }
   ],
   "metadata": {}
  }
 ]
}
