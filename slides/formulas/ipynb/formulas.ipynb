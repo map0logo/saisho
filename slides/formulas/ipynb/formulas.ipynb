{
 "metadata": {
  "celltoolbar": "Slideshow",
  "signature": "sha256:6ca44b6f89188858ace5031e38298717b04fb5a21a29d721888aaf3758442b79"
 },
 "nbformat": 3,
 "nbformat_minor": 0,
 "worksheets": [
  {
   "cells": [
    {
     "cell_type": "markdown",
     "metadata": {
      "slideshow": {
       "slide_type": "slide"
      }
     },
     "source": [
      "# Cap.1: Haciendo c\u00e1lculos con f\u00f3rmulas\n",
      "**Ene 13, 2015**\n",
      "\n",
      "Basado en las l\u00e1minas hechas por Hans Petter Langtangen como apoyo al libro de texto *A Primer on Scientific Programming with Python* 4ta edici\u00f3n, Springer 2014.\n",
      "\n",
      "http://hplgit.github.io/scipro-primer/slides/index.html\n",
      "\n",
      "Francisco Palm\n",
      "\n",
      "\n",
      "\n"
     ]
    },
    {
     "cell_type": "markdown",
     "metadata": {
      "slideshow": {
       "slide_type": "slide"
      }
     },
     "source": [
      "### \u00bfPorqu\u00e9 programar?\n",
      "\n",
      "\n",
      "> *Para preparar a la humanidad para los pr\u00f3ximos 100 a\u00f1os, necesitamos que mas de nuestras ni\u00f1as y nuestros ni\u00f1os aprendan destrezas de programaci\u00f3n, sin importar su futura profesi\u00f3n. Junto con leer y escribir, la habilidad de programar va a definir que es una persona educada*.\n",
      "> Salman Khan Fundador de la Khan Academy\n",
      "\n",
      "----\n",
      "\n",
      "> *Los programadores del ma\u00f1ana ser\u00e1n los magos del futuro. Parecer\u00e1 que tienes poderes m\u00e1gicos comparado con todos los dem\u00e1s*. \n",
      "> Gabe Newell, Fundador y Presidente de Valve.\n"
     ]
    },
    {
     "cell_type": "markdown",
     "metadata": {
      "slideshow": {
       "slide_type": "slide"
      }
     },
     "source": [
      "### La estrategia de aprendizaje es basada en ejemplos\n",
      "\n",
      "  * Se presenta un caso (ejemplo)\n",
      "\n",
      "  * Se presenta el programa completo\n",
      "\n",
      "  * Se analiza l\u00ednea por l\u00ednea\n",
      "\n",
      "  * Simula los programas a mano (\u00a1se la computadora!)\n"
     ]
    },
    {
     "cell_type": "markdown",
     "metadata": {
      "slideshow": {
       "slide_type": "slide"
      }
     },
     "source": [
      "### Evaluando una f\u00f3rmula matem\u00e1tica\n",
      "\n",
      "**Altura de una pelota en movimiento vertical.**"
     ]
    },
    {
     "cell_type": "markdown",
     "metadata": {
      "slideshow": {
       "slide_type": "fragment"
      }
     },
     "source": [
      "$$\n",
      "y(t) = v_0t- \\frac{1}{2}gt^2\n",
      "$$"
     ]
    },
    {
     "cell_type": "markdown",
     "metadata": {
      "slideshow": {
       "slide_type": "fragment"
      }
     },
     "source": [
      "donde\n",
      "\n",
      "  * $y$ es la altura (posici\u00f3n) como funci\u00f3n del tiempo $t$\n",
      "\n",
      "  * $v_0$ es la velocidad inicial en $t=0$\n",
      "\n",
      "  * $g$ es la aceleraci\u00f3n de la gravedad\n",
      "\n",
      "Tarea: dados $v_0$, $g$ y $t$, calcular $y$.\n",
      "\n",
      "\n",
      "\n"
     ]
    },
    {
     "cell_type": "markdown",
     "metadata": {
      "slideshow": {
       "slide_type": "slide"
      }
     },
     "source": [
      "### \u00bfUsar una calculadora? \u00a1Si un programa es mucho mas poderoso!\n",
      "\n",
      "**\u00bfQu\u00e9 es un programa?**\n",
      "\n",
      "Una secuencia de instrucciones para la computadora, escritas en un lenguaje de programaci\u00f3n, parecido al ingl\u00e9s, pero mucho mas simple - y mucho mas estricto.\n",
      "\n",
      "En este curso aprender\u00e1s el lenguaje de programaci\u00f3n Python.\n",
      "\n",
      "\n",
      "**Nuestro primer programa de ejemplo:**\n",
      "\n",
      "Evalua $y(t) = v_0t- \\frac{1}{2}gt^2$ para $v_0=5$, $g=9.81$ y $t=0.6$:"
     ]
    },
    {
     "cell_type": "markdown",
     "metadata": {
      "slideshow": {
       "slide_type": "fragment"
      }
     },
     "source": [
      "$$\n",
      "y = 5\\cdot 0.6 - \\frac{1}{2}\\cdot 9.81 \\cdot 0.6^2\n",
      "$$"
     ]
    },
    {
     "cell_type": "markdown",
     "metadata": {
      "slideshow": {
       "slide_type": "fragment"
      }
     },
     "source": [
      "El programa completo de Python ser\u00eda:"
     ]
    },
    {
     "cell_type": "code",
     "collapsed": false,
     "input": [
      "print(5*0.6 - 0.5*9.81*0.6**2)"
     ],
     "language": "python",
     "metadata": {
      "slideshow": {
       "slide_type": "fragment"
      }
     },
     "outputs": [
      {
       "output_type": "stream",
       "stream": "stdout",
       "text": [
        "1.2342\n"
       ]
      }
     ],
     "prompt_number": 1
    },
    {
     "cell_type": "markdown",
     "metadata": {
      "slideshow": {
       "slide_type": "slide"
      }
     },
     "source": [
      "### Como escribir y ejecutar un programa\n",
      "\n",
      "  * Un programa es texto plano, escrito en un *editor de texto plano*\n",
      "\n",
      "  * Utiliza Gedit, Emacs, Vim, Spyder, o IDLE (*no* MS Word!)\n",
      "\n",
      "**Paso 1.** Escribe el programa en un editor de texto, aqu\u00ed est\u00e1 la l\u00ednea:"
     ]
    },
    {
     "cell_type": "code",
     "collapsed": false,
     "input": [
      "print(5*0.6 - 0.5*9.81*0.6**2)\n"
     ],
     "language": "python",
     "metadata": {
      "slideshow": {
       "slide_type": "fragment"
      }
     },
     "outputs": [],
     "prompt_number": 1
    },
    {
     "cell_type": "markdown",
     "metadata": {
      "slideshow": {
       "slide_type": "fragment"
      }
     },
     "source": [
      "**Paso 2.**\n",
      "Guarda el programa en un archivo (digamos) `pelota1.py`.\n",
      "(`.py` denota Python.)\n",
      "\n",
      "**Paso 3.**\n",
      "Abre una ventana del terminal y ve a la carpeta que contiene el archivo del programa.\n",
      "\n",
      "**Paso 4.** Ejecuta el programa:"
     ]
    },
    {
     "cell_type": "markdown",
     "metadata": {
      "slideshow": {
       "slide_type": "fragment"
      }
     },
     "source": [
      "        Terminal> python pelota1.py\n"
     ]
    },
    {
     "cell_type": "markdown",
     "metadata": {
      "slideshow": {
       "slide_type": "fragment"
      }
     },
     "source": [
      "El programa imprime `1.2342` en la ventana del terminal."
     ]
    },
    {
     "cell_type": "markdown",
     "metadata": {
      "slideshow": {
       "slide_type": "slide"
      }
     },
     "source": [
      "### En este curso es probable que se use la computadora de una forma diferente a la que est\u00e1s acostumbrado\n",
      "\n",
      "  * Cuando usas una computadora, siempre ejecutas algunos programas.\n",
      "\n",
      "  * La computadora no puede hacer nada a menos que se le indique con precisi\u00f3n que hacer, y los humanos escriben y usan programas para decirle a la computadora que hacer.\n",
      "\n",
      "  * La mayor\u00eda de las personas est\u00e1n acostumbrados a hacer doble clic sobre un \u00edcono para ejecutar un programa-  en este curso se le dar\u00e1n comandos en un terminal porque es mas eficiente si trabajas intensamente en programaci\u00f3n.\n",
      "\n",
      "  * Los problemas de matem\u00e1ticas dif\u00edciles de repente se vuelven f\u00e1ciles escribiendo programas."
     ]
    },
    {
     "cell_type": "markdown",
     "metadata": {
      "slideshow": {
       "slide_type": "slide"
      }
     },
     "source": [
      "### Un peque\u00f1o programa que calcula una integral\n",
      "\n",
      "No puedes calcular esta integral a mano:"
     ]
    },
    {
     "cell_type": "markdown",
     "metadata": {
      "slideshow": {
       "slide_type": "fragment"
      }
     },
     "source": [
      "$$\n",
      "\\int_{-\\infty}^1 e^{-x^2}dx{\\thinspace .}\n",
      "$$"
     ]
    },
    {
     "cell_type": "markdown",
     "metadata": {
      "slideshow": {
       "slide_type": "subslide"
      }
     },
     "source": [
      "Un peque\u00f1o programa puede calcular esta y \"todas\" las dem\u00e1s integrales:"
     ]
    },
    {
     "cell_type": "code",
     "collapsed": false,
     "input": [
      "from numpy import *\n",
      "\n",
      "def integrate(f, a, b, n=100):\n",
      "    \"\"\"\n",
      "    Integrate f from a to b,\n",
      "    using the Trapezoidal rule with n intervals.\n",
      "    \"\"\"\n",
      "    x = linspace(a, b, n+1)    # Coordinates of the intervals\n",
      "    h = x[1] - x[0]            # Interval spacing\n",
      "    I = h*(sum(f(x)) - 0.5*(f(a) + f(b)))\n",
      "    return I\n",
      "\n",
      "# Define my special integrand\n",
      "def my_function(x):\n",
      "    return exp(-x**2)\n",
      "\n",
      "minus_infinity = -20  # Approximation of minus infinity\n",
      "I = integrate(my_function, minus_infinity, 1, n=1000)\n",
      "print('Value of integral:', I)\n"
     ],
     "language": "python",
     "metadata": {
      "slideshow": {
       "slide_type": "fragment"
      }
     },
     "outputs": [
      {
       "output_type": "stream",
       "stream": "stdout",
       "text": [
        "Value of integral: 1.63302401873\n"
       ]
      }
     ],
     "prompt_number": 2
    },
    {
     "cell_type": "markdown",
     "metadata": {
      "slideshow": {
       "slide_type": "fragment"
      }
     },
     "source": [
      "**\u00a1El programa calcula una aproximaci\u00f3n con error de $10^{-12}$ en 0.1 s** ($n=10^6$)!\n"
     ]
    },
    {
     "cell_type": "markdown",
     "metadata": {
      "slideshow": {
       "slide_type": "slide"
      }
     },
     "source": [
      "### Las Computadoras son muy exigentes con las reglas gramaticales y errores tipogr\u00e1ficos\n",
      "\n",
      "Examine lo siguiente:"
     ]
    },
    {
     "cell_type": "markdown",
     "metadata": {
      "slideshow": {
       "slide_type": "fragment"
      }
     },
     "source": [
      "        print 5*0.6 - 0.5*9.81*0.6**2\n",
      "        write 5*0,6 - 0,5*9,81*0,6^2\n"
     ]
    },
    {
     "cell_type": "markdown",
     "metadata": {
      "slideshow": {
       "slide_type": "fragment"
      }
     },
     "source": [
      "\u00bfPiensas que esas dos l\u00edneas son iguales?\n",
      "\n",
      "  * Los humanos dir\u00e1n *si*, las computadoras *no*\n",
      "\n",
      "  * La segunda l\u00edneano tiene sentido como un programa de Python\n",
      "\n",
      "  * `write` no es una palabra con sentido para Python en este contexto, \n",
      "    la coma tiene un significado diferente al que tiene en matem\u00e1ticas,\n",
      "    y el acento circunflejo no se utiliza para las potencias\n",
      "\n",
      "  * !Hay que ser en extremo exacto sobre como escribimos programas de\n",
      "    computadora!\n",
      "\n",
      "  * Toma tiempo y experiencia aprenderlo\n"
     ]
    },
    {
     "cell_type": "markdown",
     "metadata": {
      "slideshow": {
       "slide_type": "slide"
      }
     },
     "source": [
      "### Programar te abre a una nueva vida\n",
      "\n",
      "> *La gente solamente se hace programadora si son obsesivos por los detalles, anhelan poder sobre las m\u00e1quinas, y pueden soportar que se les diga d\u00eda tras d\u00eda lo est\u00fapidos que son.*\n",
      "> G. J. E. Rawlins\n",
      "\n",
      "----\n",
      "\n",
      "> *Para mi programar es mas que un importante arte pr\u00e1ctico. Es tambi\u00e9n una empresa gigantesca en los cimientos del conocimiento*.\n",
      "> Grace Hopper, citada en *La Gesti\u00f3n y la Computadora del Futuro* (1962) por el Sloan School of Management, p. 277\n",
      "\n",
      "\n"
     ]
    },
    {
     "cell_type": "markdown",
     "metadata": {
      "slideshow": {
       "slide_type": "slide"
      }
     },
     "source": [
      "### Almacena n\u00fameros en variables para hacer un programa mas legible\n",
      "\n",
      "Desde las matem\u00e1ticas est\u00e1s acostumbrada a utilizar variables, por ejemplo,"
     ]
    },
    {
     "cell_type": "markdown",
     "metadata": {
      "slideshow": {
       "slide_type": "fragment"
      }
     },
     "source": [
      "$$\n",
      "v_0=5,\\quad g=9.81,\\quad t=0.6,\\quad y = v_0t -\\frac{1}{2}gt^2\n",
      "$$"
     ]
    },
    {
     "cell_type": "markdown",
     "metadata": {
      "slideshow": {
       "slide_type": "fragment"
      }
     },
     "source": [
      "Tambi\u00e9n se pueden utilizar variables en un programa, y esto hace que\n",
      "el programa anterior sea m\u00e1s f\u00e1cil de leer y entender:"
     ]
    },
    {
     "cell_type": "code",
     "collapsed": false,
     "input": [
      "v0 = 5\n",
      "g = 9.81\n",
      "t = 0.6\n",
      "y = v0*t - 0.5*g*t**2\n",
      "print(y)\n"
     ],
     "language": "python",
     "metadata": {
      "slideshow": {
       "slide_type": "fragment"
      }
     },
     "outputs": [
      {
       "output_type": "stream",
       "stream": "stdout",
       "text": [
        "1.2342\n"
       ]
      }
     ],
     "prompt_number": 3
    },
    {
     "cell_type": "markdown",
     "metadata": {
      "slideshow": {
       "slide_type": "fragment"
      }
     },
     "source": [
      "Este programa abarca varias l\u00edneas de texto y utiliza variables, por otro lado el programa realiza los mismos c\u00e1lculos y devuelve el mismo resultado del programa anterior.\n",
      "This program spans several lines of text and use variables, otherwise the program performs the same calculations and gives the same output as the previous program\n"
     ]
    },
    {
     "cell_type": "markdown",
     "metadata": {
      "slideshow": {
       "slide_type": "slide"
      }
     },
     "source": [
      "### Hay una gran flexibilidad al escoger los nombre de las variables\n",
      "\n",
      "  * En matem\u00e1ticas usualmente se selecciona una letra para una variable\n",
      "\n",
      "  * El nombre de una variable en un programa puede contener las letras a-z, A-Z, gui\u00f3n bajo `_` y los d\u00edgitos 0-9, pero no puede empezar con un d\u00edgito\n",
      "\n",
      "  * Los nombres de variables diferencian entre min\u00fasculas y may\u00fasculas (por ejemplo, `a` es diferente de `A`)\n",
      "  \n",
      "(**nota**: En Python 3 las letras pueden ser cualquier caracter Unicode siempre que no formen una palabra reservada.)"
     ]
    },
    {
     "cell_type": "code",
     "collapsed": false,
     "input": [
      "initial_velocity = 5\n",
      "accel_of_gravity = 9.81\n",
      "TIME = 0.6\n",
      "VerticalPositionOfBall = initial_velocity*TIME - \\\n",
      "                         0.5*accel_of_gravity*TIME**2\n",
      "print(VerticalPositionOfBall)\n"
     ],
     "language": "python",
     "metadata": {
      "slideshow": {
       "slide_type": "fragment"
      }
     },
     "outputs": [
      {
       "output_type": "stream",
       "stream": "stdout",
       "text": [
        "1.2342\n"
       ]
      }
     ],
     "prompt_number": 5
    },
    {
     "cell_type": "markdown",
     "metadata": {
      "slideshow": {
       "slide_type": "fragment"
      }
     },
     "source": [
      "(**Nota**: la barra invertida permite que una instrucci\u00f3n continue en la siguiente l\u00ednea)\n",
      "\n",
      "\u00a1Los buenos nombres de variable hacen que el programa sea mas f\u00e1cil de entender!"
     ]
    },
    {
     "cell_type": "markdown",
     "metadata": {
      "slideshow": {
       "slide_type": "slide"
      }
     },
     "source": [
      "### Algunas palabras est\u00e1n reservadas en Python\n",
      "\n",
      "Ciertas palabras tienen un significado especial en Python y no pueden ser utilizadas como nombres de variables. Estas son: `and`,\n",
      "`as`,\n",
      "`assert`,\n",
      "`break`,\n",
      "`class`,\n",
      "`continue`,\n",
      "`def`,\n",
      "`del`,\n",
      "`elif`,\n",
      "`else`,\n",
      "`except`,\n",
      "`exec`,\n",
      "`finally`,\n",
      "`for`,\n",
      "`from`,\n",
      "`global`,\n",
      "`if`,\n",
      "`import`,\n",
      "`in`,\n",
      "`is`,\n",
      "`lambda`,\n",
      "`not`,\n",
      "`or`,\n",
      "`pass`,\n",
      "`print`,\n",
      "`raise`,\n",
      "`return`,\n",
      "`try`,\n",
      "`with`,\n",
      "`while`, and\n",
      "`yield`.\n"
     ]
    },
    {
     "cell_type": "markdown",
     "metadata": {
      "slideshow": {
       "slide_type": "slide"
      }
     },
     "source": [
      "### Comments are useful to explain how you think in programs\n",
      "\n",
      "**Program with comments:**"
     ]
    },
    {
     "cell_type": "code",
     "collapsed": false,
     "input": [
      "# program for computing the height of a ball\n",
      "# in vertical motion\n",
      "v0 = 5    # initial velocity\n",
      "g = 9.81  # acceleration of gravity\n",
      "t = 0.6   # time\n",
      "y = v0*t - 0.5*g*t**2  # vertical position\n",
      "print(y)\n"
     ],
     "language": "python",
     "metadata": {
      "slideshow": {
       "slide_type": "fragment"
      }
     },
     "outputs": [
      {
       "output_type": "stream",
       "stream": "stdout",
       "text": [
        "1.2342\n"
       ]
      }
     ],
     "prompt_number": 3
    },
    {
     "cell_type": "markdown",
     "metadata": {
      "slideshow": {
       "slide_type": "slide"
      }
     },
     "source": [
      "**Nota:**\n",
      "\n",
      "  * Todo despu\u00e9s de `#` en una l\u00ednea es un comentario y es ignorado por Python\n",
      "\n",
      "  * Los comentarios son utilizados para explicar (en lenguaje humano) que significan las instrucciones para la computadora, que significan las variables, como la programadora razon\u00f3 cuando escribi\u00f3 el programa, etc.\n",
      "\n",
      "  * Los malos comentarios no dicen mas que el c\u00f3digo: `a = 5  # set a to 5`\n"
     ]
    },
    {
     "cell_type": "markdown",
     "metadata": {
      "slideshow": {
       "slide_type": "slide"
      }
     },
     "source": [
      "### Los comentarios no son siempre ignorados....\n",
      "\n",
      "Regla normal: Los programas de Python, incluyendo los comentarios, solo pueden contener caracteres del alfabeto ingl\u00e9s (ASCII).\n",
      "\n",
      "El notebook de Python permite caracteres distintos del ingl\u00e9s (pero el Python ordinario no los permite a menos que se coloque la l\u00ednea `# -*- coding: utf-8 -*-` al principio del c\u00f3digo)."
     ]
    },
    {
     "cell_type": "code",
     "collapsed": false,
     "input": [
      "hilsen = 'Kj\u00e6re \u00c5smund!'  # er \u00e6 og \u00c5 lov i en streng?\n",
      "print(hilsen)\n"
     ],
     "language": "python",
     "metadata": {
      "slideshow": {
       "slide_type": "fragment"
      }
     },
     "outputs": [
      {
       "output_type": "stream",
       "stream": "stdout",
       "text": [
        "Kj\u00e6re \u00c5smund!\n"
       ]
      }
     ],
     "prompt_number": 7
    },
    {
     "cell_type": "markdown",
     "metadata": {
      "slideshow": {
       "slide_type": "slide"
      }
     },
     "source": [
      "### la sintaxis de `print()` provee una gran flexibilidad para dar formato al texto con n\u00fameros\n",
      "\n",
      "La salida de los c\u00e1lculos con frecuencia puede contener texto y n\u00fameros, por ejemplo,"
     ]
    },
    {
     "cell_type": "markdown",
     "metadata": {
      "slideshow": {
       "slide_type": "fragment"
      }
     },
     "source": [
      "        En t=0.6 s, y es 1.23 m.\n"
     ]
    },
    {
     "cell_type": "markdown",
     "metadata": {
      "slideshow": {
       "slide_type": "fragment"
      }
     },
     "source": [
      "Se quiere controlar el formato de los n\u00fameros: n\u00famero de decimales, estilo: `0.6` vs `6E-01` o `6.0e-01`. El llamado *formato printf* es \u00fatil para este prop\u00f3sito:"
     ]
    },
    {
     "cell_type": "code",
     "collapsed": false,
     "input": [
      "print('En t=%g s, y es %.2f m.' % (t, y))\n"
     ],
     "language": "python",
     "metadata": {
      "slideshow": {
       "slide_type": "fragment"
      }
     },
     "outputs": [
      {
       "output_type": "stream",
       "stream": "stdout",
       "text": [
        "En t=0.6 s, y es 1.23 m.\n"
       ]
      }
     ],
     "prompt_number": 4
    },
    {
     "cell_type": "markdown",
     "metadata": {
      "slideshow": {
       "slide_type": "fragment"
      }
     },
     "source": [
      "El formato *printf* tiene \"ranuras\" donde se pone el valor de las variables que aparecen al final: `%g` $\\leftarrow$ `t`, `%.2f` $\\leftarrow$ `y`"
     ]
    },
    {
     "cell_type": "markdown",
     "metadata": {
      "slideshow": {
       "slide_type": "slide"
      }
     },
     "source": [
      "### Ejemplos de varios formatos printf"
     ]
    },
    {
     "cell_type": "markdown",
     "metadata": {},
     "source": [
      "        %g         formato mas compacto para un n\u00famero real\n",
      "        %f         notaci\u00f3n decimal (-34.674)\n",
      "        %10.3f     notaci\u00f3n decimal, 3 decimales, ancho de campo 10\n",
      "        %.3f       notaci\u00f3n decimal, 3 decimales, ancho de campo m\u00ednimo\n",
      "        %e or %E   notaci\u00f3n cient\u00edfica (1.42e-02 o 1.42E-02)\n",
      "        %9.2e      notaci\u00f3n cient\u00edfica, 2 decimales, ancho de campo 9\n",
      "        %d         entero\n",
      "        %5d        entero en un ancho de campo de 5 caracteres\n",
      "        %s         cadena (texto)\n",
      "        %-20s      cadena, ancho de campo 20, ajustado a la izquierda\n",
      "        %%         el propio s\u00edmbolo de porcentaje %\n"
     ]
    },
    {
     "cell_type": "markdown",
     "metadata": {
      "slideshow": {
       "slide_type": "fragment"
      }
     },
     "source": [
      "(Ver el libro para mas explicaciones y revisi\u00f3n)"
     ]
    },
    {
     "cell_type": "markdown",
     "metadata": {
      "slideshow": {
       "slide_type": "slide"
      }
     },
     "source": [
      "### Uso del formato printf en nuestro programa\n",
      "\n",
      "Las cadenas entre comillas triples (`\"\"\"`) pueden utilizarse para salidas de varias l\u00edneas, a continuaci\u00f3n se combina una de estas cadenas con el formato *printf*:"
     ]
    },
    {
     "cell_type": "code",
     "collapsed": false,
     "input": [
      "v0 = 5\n",
      "g = 9.81\n",
      "t = 0.6\n",
      "y = v0*t - 0.5*g*t**2\n",
      "\n",
      "print(\"\"\"\n",
      "En t=%f s, una pelota con\n",
      "velocidad inicial v0=%.3E m/s\n",
      "est\u00e1 a una altura de %.2f m.\n",
      "\"\"\" % (t, v0, y))\n"
     ],
     "language": "python",
     "metadata": {
      "slideshow": {
       "slide_type": "fragment"
      }
     },
     "outputs": [
      {
       "output_type": "stream",
       "stream": "stdout",
       "text": [
        "\n",
        "En t=0.600000 s, una pelota con\n",
        "velocidad inicial v0=5.000E+00 m/s\n",
        "est\u00e1 a una altura de 1.23 m.\n",
        "\n"
       ]
      }
     ],
     "prompt_number": 7
    },
    {
     "cell_type": "markdown",
     "metadata": {
      "slideshow": {
       "slide_type": "subslide"
      }
     },
     "source": [
      "Ejecutar el programa:"
     ]
    },
    {
     "cell_type": "markdown",
     "metadata": {
      "slideshow": {
       "slide_type": "fragment"
      }
     },
     "source": [
      "        Terminal> python imprimir_pelota2.py\n",
      "        \n",
      "        En t=0.600000 s, una pelota con\n",
      "        velocidad inicial v0=5.000E+00 m/s\n",
      "        est\u00e1 a una altura de 1.23 m.\n"
     ]
    },
    {
     "cell_type": "markdown",
     "metadata": {
      "slideshow": {
       "slide_type": "slide"
      }
     },
     "source": [
      "### Algunos t\u00e9rminos de computaci\u00f3n frecuentes\n",
      "\n",
      "  * Programa o c\u00f3digo o aplicaci\u00f3n\n",
      "  * C\u00f3digo fuente (texto del programa)\n",
      "  * C\u00f3digo/trozo de c\u00f3digo\n",
      "  * Ejecutar o correr un programa\n",
      "  * Algoritmo (la receta de un programa)\n",
      "  * Implantaci\u00f3n (escritura del programa)\n",
      "  * Verificaci\u00f3n (\u00bfFunciona el programa correctamente?)\n",
      "  * Bugs (errores) y depuraci\u00f3n\n",
      "\n",
      "El significado de los t\u00e9rminos en computaci\u00f3n es con frecuencia diferente al significado en lenguaje humano"
     ]
    },
    {
     "cell_type": "markdown",
     "metadata": {
      "slideshow": {
       "slide_type": "slide"
      }
     },
     "source": [
      "### Un programa consiste de sentencias"
     ]
    },
    {
     "cell_type": "code",
     "collapsed": false,
     "input": [
      "a = 1      # 1era sentencia (sentencia de asignaci\u00f3n)\n",
      "b = 2      # 2da sentencia (sentencia de asignaci\u00f3n)\n",
      "c = a + b  # 3era sentencia (sentencia de asignaci\u00f3n)\n",
      "print(c)    # 4ta sentencia (sentencia de impresi\u00f3n)\n"
     ],
     "language": "python",
     "metadata": {
      "slideshow": {
       "slide_type": "fragment"
      }
     },
     "outputs": [
      {
       "output_type": "stream",
       "stream": "stdout",
       "text": [
        "3\n"
       ]
      }
     ],
     "prompt_number": 8
    },
    {
     "cell_type": "markdown",
     "metadata": {
      "slideshow": {
       "slide_type": "fragment"
      }
     },
     "source": [
      "Regla normal: una sentencia por l\u00ednea, pero\n",
      "es posible tener varias sentencias por l\u00ednea separ\u00e1ndolas\n",
      "con punto y coma:"
     ]
    },
    {
     "cell_type": "code",
     "collapsed": false,
     "input": [
      "a = 1;  b = 2;  c = a + b;  print(c)\n"
     ],
     "language": "python",
     "metadata": {
      "slideshow": {
       "slide_type": "fragment"
      }
     },
     "outputs": [
      {
       "output_type": "stream",
       "stream": "stdout",
       "text": [
        "3\n"
       ]
      }
     ],
     "prompt_number": 9
    },
    {
     "cell_type": "markdown",
     "metadata": {
      "slideshow": {
       "slide_type": "slide"
      }
     },
     "source": [
      "### Las sentencias de asignaci\u00f3n evaluan la expresi\u00f3n del lado derecho y asignan el resultado a la variable del lado izquierdo"
     ]
    },
    {
     "cell_type": "code",
     "collapsed": false,
     "input": [
      "myvar = 10\n",
      "myvar = 3*myvar   # = 30\n"
     ],
     "language": "python",
     "metadata": {
      "slideshow": {
       "slide_type": "fragment"
      }
     },
     "outputs": [],
     "prompt_number": 10
    },
    {
     "cell_type": "markdown",
     "metadata": {
      "slideshow": {
       "slide_type": "slide"
      }
     },
     "source": [
      "### Sintaxis es la especificaci\u00f3n exacta de las instrucciones de la computadora\n",
      "\n",
      "Los programas deben tener una sintaxis correcta, es decir, el uso correcto de las reglas gram\u00e1ticales del lenguaje de la computadra, \u00a1sin errores de tipeo!\n",
      "\n",
      "**Este es un programa con dos errores de sintaxis:**"
     ]
    },
    {
     "cell_type": "code",
     "collapsed": false,
     "input": [
      "myvar = 5.2\n",
      "prinnt Myvar\n"
     ],
     "language": "python",
     "metadata": {
      "slideshow": {
       "slide_type": "fragment"
      }
     },
     "outputs": [
      {
       "ename": "SyntaxError",
       "evalue": "invalid syntax (<ipython-input-11-b8bfd2138e5c>, line 2)",
       "output_type": "pyerr",
       "traceback": [
        "\u001b[1;36m  File \u001b[1;32m\"<ipython-input-11-b8bfd2138e5c>\"\u001b[1;36m, line \u001b[1;32m2\u001b[0m\n\u001b[1;33m    prinnt Myvar\u001b[0m\n\u001b[1;37m               ^\u001b[0m\n\u001b[1;31mSyntaxError\u001b[0m\u001b[1;31m:\u001b[0m invalid syntax\n"
       ]
      }
     ],
     "prompt_number": 11
    },
    {
     "cell_type": "markdown",
     "metadata": {
      "slideshow": {
       "slide_type": "skip"
      }
     },
     "source": [
      "            prinnt Myvar\n",
      "                       ^\n",
      "        SyntaxError: invalid syntax\n"
     ]
    },
    {
     "cell_type": "markdown",
     "metadata": {
      "slideshow": {
       "slide_type": "subslide"
      }
     },
     "source": [
      "Only the first encountered error is reported and the program is stopped (correct the error and continue with next error)\n",
      "\n",
      "> *Programming demands significantly higher standard of accuracy. Things don't simply have to make sense to another human being, they must make sense to a computer.* Donald Knuth, computer scientist, 1938-"
     ]
    },
    {
     "cell_type": "markdown",
     "metadata": {
      "slideshow": {
       "slide_type": "slide"
      }
     },
     "source": [
      "### Los espacios en blanco pueden utilizarse para darle un formato agradable al texto\n",
      "\n",
      "Los espacios en blanco pueden o no ser importantes en los programas de Python.\n",
      "\n",
      "Las siguientes sentencias son equivalentes (los espacios en blanco no son relevantes):"
     ]
    },
    {
     "cell_type": "code",
     "collapsed": false,
     "input": [
      "v0=3\n",
      "v0  =  3\n",
      "v0=   3\n",
      "v0 = 3\n"
     ],
     "language": "python",
     "metadata": {
      "slideshow": {
       "slide_type": "fragment"
      }
     },
     "outputs": [],
     "prompt_number": 12
    },
    {
     "cell_type": "markdown",
     "metadata": {
      "slideshow": {
       "slide_type": "fragment"
      }
     },
     "source": [
      "Aqu\u00ed los espacios en blanco si son importantes:"
     ]
    },
    {
     "cell_type": "code",
     "collapsed": false,
     "input": [
      "while counter <= 10:\n",
      "    counter = counter + 1   # correct (4 leading blanks)\n",
      "\n",
      "while counter <= 10:\n",
      "counter = counter + 1       # invalid syntax\n"
     ],
     "language": "python",
     "metadata": {
      "slideshow": {
       "slide_type": "fragment"
      }
     },
     "outputs": [
      {
       "ename": "IndentationError",
       "evalue": "expected an indented block (<ipython-input-13-16b8204f33df>, line 5)",
       "output_type": "pyerr",
       "traceback": [
        "\u001b[1;36m  File \u001b[1;32m\"<ipython-input-13-16b8204f33df>\"\u001b[1;36m, line \u001b[1;32m5\u001b[0m\n\u001b[1;33m    counter = counter + 1       # invalid syntax\u001b[0m\n\u001b[1;37m          ^\u001b[0m\n\u001b[1;31mIndentationError\u001b[0m\u001b[1;31m:\u001b[0m expected an indented block\n"
       ]
      }
     ],
     "prompt_number": 13
    },
    {
     "cell_type": "markdown",
     "metadata": {
      "slideshow": {
       "slide_type": "fragment"
      }
     },
     "source": [
      "(mas sobre esto en el Cap\u00edtulo 2)"
     ]
    },
    {
     "cell_type": "code",
     "collapsed": false,
     "input": [
      "### A program takes some known *input* data and computes some *output* data"
     ],
     "language": "python",
     "metadata": {},
     "outputs": []
    },
    {
     "cell_type": "code",
     "collapsed": false,
     "input": [
      "v0 = 3;  g = 9.81;  t = 0.6\n",
      "position = v0*t - 0.5*g*t*t\n",
      "velocity = v0 - g*t\n",
      "print 'position:', position, 'velocity:', velocity\n"
     ],
     "language": "python",
     "metadata": {},
     "outputs": [],
     "prompt_number": 1
    },
    {
     "cell_type": "markdown",
     "metadata": {},
     "source": [
      "* Input: `v0`, `g`, and `t`\n",
      "\n",
      "  * Output: `position` and `velocity`\n",
      "\n",
      "\n",
      "\n",
      "### An operating system (OS) is a set of programs managing hardware and software resources on a computer\n",
      "\n",
      "  * Linux, Unix (Ubuntu, RedHat, Suse, Solaris)\n",
      "\n",
      "  * Windows (95, 98, NT, ME, 2000, XP, Vista, 7, 8)\n",
      "\n",
      "  * Macintosh (old Mac OS, Mac OS X)\n",
      "\n",
      "  * Mac OS X $\\approx$ Unix $\\approx$ Linux $\\neq$ Windows\n",
      "\n",
      "  * Typical OS commands are quite similar:\n",
      "\n",
      "    * Linux/Unix: `mkdir folder; cd folder; ls`\n",
      "\n",
      "    * Windows: `mkdir folder; cd folder; dir`\n",
      "\n",
      "\n",
      "  * Python supports cross-platform programming, i.e., a program is independent of which OS we run the program on\n",
      "\n",
      "\n",
      "\n",
      "### Evaluating a formula for temperature conversion\n",
      "\n",
      "Given $C$ as a temperature in Celsius degrees,\n",
      "compute the corresponding Fahrenheit degrees $F$:"
     ]
    },
    {
     "cell_type": "markdown",
     "metadata": {},
     "source": [
      "$$\n",
      "F = \\frac{9}{5}C + 32\n",
      "$$"
     ]
    },
    {
     "cell_type": "markdown",
     "metadata": {},
     "source": [
      "Program:"
     ]
    },
    {
     "cell_type": "code",
     "collapsed": false,
     "input": [
      "C = 21\n",
      "F = (9/5)*C + 32\n",
      "print F\n"
     ],
     "language": "python",
     "metadata": {},
     "outputs": [],
     "prompt_number": 1
    },
    {
     "cell_type": "markdown",
     "metadata": {},
     "source": [
      "Execution:"
     ]
    },
    {
     "cell_type": "markdown",
     "metadata": {},
     "source": [
      "        Terminal> python c2f_v1.py\n",
      "        53\n"
     ]
    },
    {
     "cell_type": "markdown",
     "metadata": {},
     "source": [
      "### We must always check that a new program calculates the right answer\n",
      "\n",
      "**Using a calculator:**\n",
      "\n",
      "9/5 times 21 plus 32 is 69.8, not 53.\n",
      "\n",
      "\n",
      "\n",
      "### The error is caused by (unintended) integer division\n",
      "\n",
      "  * 9/5 is not 1.8 but 1 in most computer languages (!)\n",
      "\n",
      "  * If $a$ and $b$ are integers, $a/b$ implies integer division: the largest integer $c$ such that $cb\\leq a$\n",
      "\n",
      "  * Examples: $1/5=0$, $2/5=0$, $7/5=1$, $12/5=2$\n",
      "\n",
      "  * In mathematics, 9/5 is a real number (1.8) - this is called float division in Python and is the division we want\n",
      "\n",
      "  * One of the operands ($a$ or $b$) in $a/b$ must be a real number (\"float\") to get float division\n",
      "\n",
      "  * A float in Python has a dot (or decimals): `9.0` or `9.` is float\n",
      "\n",
      "  * No dot implies integer: `9` is an integer\n",
      "\n",
      "  * `9.0/5` yields `1.8`, `9/5.` yields `1.8`, `9/5` yields `1`\n",
      "\n",
      "Corrected program (with correct output 69.8):"
     ]
    },
    {
     "cell_type": "code",
     "collapsed": false,
     "input": [
      "C = 21\n",
      "F = (9.0/5)*C + 32\n",
      "print F\n"
     ],
     "language": "python",
     "metadata": {},
     "outputs": [],
     "prompt_number": 1
    },
    {
     "cell_type": "markdown",
     "metadata": {},
     "source": [
      "### Everything in Python is an object\n",
      "\n",
      "Variables refer to objects:"
     ]
    },
    {
     "cell_type": "code",
     "collapsed": false,
     "input": [
      "a = 5       # a refers to an integer (int) object\n",
      "b = 9       # b refers to an integer (int) object\n",
      "c = 9.0     # c refers to a real number (float) object\n",
      "d = b/a     # d refers to an int/int => int object\n",
      "e = c/a     # e refers to float/int => float object\n",
      "s = 'b/a=%g' % (b/a)  # s is a string/text (str) object\n"
     ],
     "language": "python",
     "metadata": {},
     "outputs": [],
     "prompt_number": 1
    },
    {
     "cell_type": "markdown",
     "metadata": {},
     "source": [
      "We can convert between object types:"
     ]
    },
    {
     "cell_type": "code",
     "collapsed": false,
     "input": [
      "a = 3              # a is int\n",
      "b = float(a)       # b is float 3.0\n",
      "c = 3.9            # c is float\n",
      "d = int(c)         # d is int 3\n",
      "d = round(c)       # d is float 4.0\n",
      "d = int(round(c))  # d is int 4\n",
      "d = str(c)         # d is str '3.9'\n",
      "e = '-4.2'         # e is str\n",
      "f = float(e)       # f is float -4.2\n"
     ],
     "language": "python",
     "metadata": {},
     "outputs": [],
     "prompt_number": 1
    },
    {
     "cell_type": "markdown",
     "metadata": {},
     "source": [
      "### Arithmetic expressions are evaluated as you have learned in mathematics\n",
      "\n",
      "  * Example: $\\frac{5}{9} + 2a^4/2$, in Python written as `5/9 + 2*a**4/2`\n",
      "\n",
      "  * Same rules as in mathematics: proceed term by term (additions/subtractions) from the left, compute powers first, then multiplication and division, in each term\n",
      "\n",
      "  * `r1 = 5/9` (=0)\n",
      "\n",
      "  * `r2 = a**4`\n",
      "\n",
      "  * `r3 = 2*r2`\n",
      "\n",
      "  * `r4 = r3/2`\n",
      "\n",
      "  * `r5 = r1 + r4`\n",
      "\n",
      "  * Use parenthesis to override these default rules - or use parenthesis to explicitly tell how the rules work: \n",
      "    `(5/9) + (2*(a**4))/2`\n",
      "\n",
      "\n",
      "\n",
      "### Standard mathematical functions are found in the `math` module\n",
      "\n",
      "  * What if we need to compute $\\sin x$, $\\cos x$, $\\ln x$, etc. in a program?\n",
      "\n",
      "  * Such functions are available in Python's `math` module\n",
      "\n",
      "  * In general: lots of useful functionality in Python is available in modules - but modules must be *imported* in our programs\n",
      "\n",
      "Compute $\\sqrt{2}$ using the `sqrt` function in the `math` module:"
     ]
    },
    {
     "cell_type": "code",
     "collapsed": false,
     "input": [
      "import math\n",
      "r = math.sqrt(2)\n",
      "# or\n",
      "from math import sqrt\n",
      "r = sqrt(2)\n",
      "# or\n",
      "from math import *   # import everything in math\n",
      "r = sqrt(2)\n"
     ],
     "language": "python",
     "metadata": {},
     "outputs": [],
     "prompt_number": 1
    },
    {
     "cell_type": "markdown",
     "metadata": {},
     "source": [
      "### Another example on computing with functions from `math`\n",
      "\n",
      "Evaluate"
     ]
    },
    {
     "cell_type": "markdown",
     "metadata": {},
     "source": [
      "$$\n",
      "Q = \\sin x\\cos x + 4\\ln x\n",
      "$$"
     ]
    },
    {
     "cell_type": "markdown",
     "metadata": {},
     "source": [
      "for $x=1.2$."
     ]
    },
    {
     "cell_type": "code",
     "collapsed": false,
     "input": [
      "from math import sin, cos, log\n",
      "x = 1.2\n",
      "Q = sin(x)*cos(x) + 4*log(x)   # log is ln (base e)\n",
      "print Q\n"
     ],
     "language": "python",
     "metadata": {},
     "outputs": [],
     "prompt_number": 1
    },
    {
     "cell_type": "markdown",
     "metadata": {},
     "source": [
      "### Computers have inexact arithmetics because of round-off errors\n",
      "\n",
      "Let us compute $1/49\\cdot 49$ and $1/51\\cdot 51$:"
     ]
    },
    {
     "cell_type": "code",
     "collapsed": false,
     "input": [
      "v1 = 1/49.0*49\n",
      "v2 = 1/51.0*51\n",
      "print '%.16f %.16f' % (v1, v2)\n"
     ],
     "language": "python",
     "metadata": {},
     "outputs": [],
     "prompt_number": 1
    },
    {
     "cell_type": "markdown",
     "metadata": {},
     "source": [
      "Output with 16 decimals becomes"
     ]
    },
    {
     "cell_type": "markdown",
     "metadata": {},
     "source": [
      "         0.9999999999999999 1.0000000000000000\n"
     ]
    },
    {
     "cell_type": "markdown",
     "metadata": {},
     "source": [
      "* Most real numbers are represented inexactly on a computer (16 digits)\n",
      "\n",
      "  * Neither 1/49 nor 1/51 is represented exactly, the error is typically $10^{-16}$\n",
      "\n",
      "  * Sometimes such small errors propagate to the final answer, sometimes not, and somtimes the small errors accumulate through many mathematical operations\n",
      "\n",
      "  * Lesson learned: real numbers on a computer and the results of mathematical computations are only approximate\n",
      "\n",
      "\n",
      "\n",
      "### Another example involving math functions\n",
      "\n",
      "The $\\sinh x$ function is defined as"
     ]
    },
    {
     "cell_type": "markdown",
     "metadata": {},
     "source": [
      "$$\n",
      "\\sinh (x) = \\frac{1}{2}\\left(e^{x} - e^{-x}\\right)\n",
      "$$"
     ]
    },
    {
     "cell_type": "markdown",
     "metadata": {},
     "source": [
      "We can evaluate this function in three ways:\n",
      "\n",
      " 1. `math.sinh`\n",
      "\n",
      " 2. combination of two `math.exp`\n",
      "\n",
      " 3. combination of two powers of `math.e`"
     ]
    },
    {
     "cell_type": "code",
     "collapsed": false,
     "input": [
      "from math import sinh, exp, e, pi\n",
      "x = 2*pi\n",
      "r1 = sinh(x)\n",
      "r2 = 0.5*(exp(x) - exp(-x))\n",
      "r3 = 0.5*(e**x - e**(-x))\n",
      "print '%.16f %.16f %.16f' % (r1,r2,r3)\n"
     ],
     "language": "python",
     "metadata": {},
     "outputs": [],
     "prompt_number": 1
    },
    {
     "cell_type": "markdown",
     "metadata": {},
     "source": [
      "Output: `r1` is $267.744894041016\\underline{4369}$, `r2` is\n",
      "$267.744894041016\\underline{4369}$, `r3` is\n",
      "$267.744894041016\\underline{3232}$ (!)\n",
      "\n",
      "\n",
      "\n",
      "### Python can be used interactively as a calculator and to test statements\n",
      "\n",
      "  * So far we have performed calculations in Python *programs*\n",
      "\n",
      "  * Python can also be used interactively in what is known as a *shell*\n",
      "\n",
      "  * Type `python`, `ipython`, or `idle` in the terminal window\n",
      "\n",
      "  * A Python shell is entered where you can write statements after `>>>`\n",
      "    (IPython has a different prompt)"
     ]
    },
    {
     "cell_type": "code",
     "collapsed": false,
     "input": [
      "C = 41\n",
      "F = (9.0/5)*C + 32\n",
      "print F\n",
      "F"
     ],
     "language": "python",
     "metadata": {},
     "outputs": [],
     "prompt_number": 1
    },
    {
     "cell_type": "markdown",
     "metadata": {},
     "source": [
      "Previous commands can be recalled and edited\n",
      "\n",
      "\n",
      "\n",
      "### Python has full support for complex numbers\n",
      "\n",
      "  * $2+3i$ in mathematics is written as `2 + 3j` in Python"
     ]
    },
    {
     "cell_type": "code",
     "collapsed": false,
     "input": [
      "a = -2\n",
      "b = 0.5\n",
      "s = complex(a, b)  # make complex from variables\n",
      "s\n",
      "s*w                # complex*complex\n",
      "s/w                # complex/complex\n",
      "s.real\n",
      "s.imag"
     ],
     "language": "python",
     "metadata": {},
     "outputs": [],
     "prompt_number": 1
    },
    {
     "cell_type": "markdown",
     "metadata": {},
     "source": [
      "See the book for additional info\n",
      "\n",
      "\n",
      "\n",
      "### Python can also do symbolic computing\n",
      "\n",
      " * Numerical computing: computation with numbers\n",
      "\n",
      " * Symbolic computing: work with formulas (as in trad. math)"
     ]
    },
    {
     "cell_type": "code",
     "collapsed": false,
     "input": [
      "from sympy import *\n",
      "t, v0, g = symbols('t v0 g')\n",
      "y = v0*t - Rational(1,2)*g*t**2\n",
      "dydt = diff(y, t)                     # 1st derivative\n",
      "dydt\n",
      "print 'acceleration:', diff(y, t, t)  # 2nd derivative\n",
      "y2 = integrate(dydt, t)\n",
      "y2"
     ],
     "language": "python",
     "metadata": {},
     "outputs": [],
     "prompt_number": 1
    },
    {
     "cell_type": "markdown",
     "metadata": {},
     "source": [
      "### SymPy can do a lot of traditional mathematics"
     ]
    },
    {
     "cell_type": "code",
     "collapsed": false,
     "input": [
      "y = v0*t - Rational(1,2)*g*t**2\n",
      "roots = solve(y, t)    # solve y=0 wrt t\n",
      "roots\n",
      "x, y = symbols('x y')\n",
      "f = -sin(x)*sin(y) + cos(x)*cos(y)\n",
      "simplify(f)\n",
      "expand(sin(x+y), trig=True)  # requires a trigonometric hint"
     ],
     "language": "python",
     "metadata": {},
     "outputs": [],
     "prompt_number": 1
    },
    {
     "cell_type": "markdown",
     "metadata": {},
     "source": [
      "### Summary of Chapter 1 (part 1)\n",
      "\n",
      "  * Programs must be accurate!\n",
      "\n",
      "  * Variables are names for objects\n",
      "\n",
      "  * We have met different object types: `int`, `float`, `str`\n",
      "\n",
      "  * Choose variable names close to the mathematical symbols in\n",
      "    the problem being solved\n",
      "\n",
      "  * Arithmetic operations in Python: term by term (+/-) from left to right, power before * and / - as in mathematics; use parenthesis when there is any doubt\n",
      "\n",
      "  * Watch out for unintended integer division!\n",
      "\n",
      "\n",
      "\n",
      "### Summary of Chapter 1 (part 2)\n",
      "\n",
      "Mathematical functions like $\\sin x$ and $\\ln x$ must be imported from the `math` module:"
     ]
    },
    {
     "cell_type": "code",
     "collapsed": false,
     "input": [
      "from math import sin, log\n",
      "x = 5\n",
      "r = sin(3*log(10*x))\n"
     ],
     "language": "python",
     "metadata": {},
     "outputs": [],
     "prompt_number": 1
    },
    {
     "cell_type": "markdown",
     "metadata": {},
     "source": [
      "Use printf syntax for full control of output of text and numbers!\n",
      "\n",
      "Important terms: object, variable, algorithm, statement, assignment, implementation, verification, debugging\n",
      "\n",
      "\n",
      "\n",
      "### Programming is challenging\n",
      "\n",
      ">   * *You think you know when you can learn,\n",
      ">     are more sure when you can write,\n",
      ">     even more when you can teach,\n",
      ">     but certain when you can program*\n",
      "> \n",
      ">   * *Within a computer, natural language is unnatural*\n",
      "> \n",
      ">   * *To understand a program you must become both the machine and the program*\n",
      "> \n",
      "> Alan Perlis, computer scientist, 1922-1990.\n",
      "\n",
      "\n",
      "\n",
      "\n",
      "\n",
      "\n",
      "### Summarizing example: throwing a ball (problem)\n",
      "\n",
      "We throw a ball with velocity $v_0$, at an angle $\\theta$ with the horizontal, from the point $(x=0,y=y_0)$. The trajectory of the ball is a parabola (we neglect air resistance):"
     ]
    },
    {
     "cell_type": "markdown",
     "metadata": {},
     "source": [
      "$$\n",
      "y = x\\tan\\theta - \\frac{1}{2v_0}\\frac{gx^2}{\\cos^2\\theta} + y_0\n",
      "$$"
     ]
    },
    {
     "cell_type": "markdown",
     "metadata": {},
     "source": [
      "* Program tasks:\n",
      "\n",
      "   * initialize input data ($v_0$, $g$, $\\theta$, $y_0$)\n",
      "\n",
      "   * import from `math`\n",
      "\n",
      "   * compute $y$\n",
      "\n",
      "\n",
      "  * We give $x$, $y$ and $y_0$ in m, $g = 9.81\\hbox {m/s}^2$, $v_0$ in km/h and $\\theta$ in degrees - this requires conversion of $v_0$ to m/s and $\\theta$ to radians\n",
      "\n",
      "\n",
      "\n",
      "### Summarizing example: throwing a ball (solution)\n",
      "\n",
      "Program:"
     ]
    },
    {
     "cell_type": "code",
     "collapsed": false,
     "input": [
      "\n",
      "g = 9.81    # m/s**2\n",
      "v0 = 15     # km/h\n",
      "theta = 60  # degrees\n",
      "x = 0.5     # m\n",
      "y0 = 1      # m\n",
      "\n",
      "print \"\"\"v0    = %.1f km/h\n",
      "theta = %d degrees\n",
      "y0    = %.1f m\n",
      "x     = %.1f m\"\"\" % (v0, theta, y0, x)\n",
      "\n",
      "# convert v0 to m/s and theta to radians:\n",
      "v0 = v0/3.6\n",
      "from math import pi, tan, cos\n",
      "theta = theta*pi/180\n",
      "\n",
      "y = x*tan(theta) - 1/(2*v0)*g*x**2/((cos(theta))**2) + y0\n",
      "\n",
      "print 'y     = %.1f m' % y\n"
     ],
     "language": "python",
     "metadata": {},
     "outputs": [],
     "prompt_number": 1
    }
   ],
   "metadata": {}
  }
 ]
}